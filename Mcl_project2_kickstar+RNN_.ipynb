{
  "nbformat": 4,
  "nbformat_minor": 0,
  "metadata": {
    "colab": {
      "name": "mcl-project2-oren_.ipynb",
      "provenance": [],
      "collapsed_sections": [],
      "include_colab_link": true
    },
    "kernelspec": {
      "name": "python3",
      "display_name": "Python 3"
    },
    "language_info": {
      "name": "python"
    }
  },
  "cells": [
    {
      "cell_type": "markdown",
      "metadata": {
        "id": "view-in-github",
        "colab_type": "text"
      },
      "source": [
        "<a href=\"https://colab.research.google.com/github/EladSagiv/EladSagiv/blob/main/Mcl_project2_kickstar%2BRNN_.ipynb\" target=\"_parent\"><img src=\"https://colab.research.google.com/assets/colab-badge.svg\" alt=\"Open In Colab\"/></a>"
      ]
    },
    {
      "cell_type": "code",
      "execution_count": 2,
      "metadata": {
        "id": "iSGewaOHBATN"
      },
      "outputs": [],
      "source": [
        "import numpy\n",
        "import math\n",
        "import itertools\n",
        "from sklearn.decomposition import PCA\n",
        "import pandas as pd\n",
        "import tensorflow as tf\n",
        "from tensorflow import keras\n",
        "from google.colab import drive\n",
        "import numpy as np\n",
        "import tensorflow_datasets as tfds\n",
        "from sklearn.model_selection import train_test_split"
      ]
    },
    {
      "cell_type": "code",
      "source": [
        "# mounting google drive\n",
        "drive.mount('/content/gdrive', force_remount=True)"
      ],
      "metadata": {
        "colab": {
          "base_uri": "https://localhost:8080/"
        },
        "id": "V4RGLOLvcfBN",
        "outputId": "e8107f96-bc9e-4e76-896c-8ba350f2f3c1"
      },
      "execution_count": 3,
      "outputs": [
        {
          "output_type": "stream",
          "name": "stdout",
          "text": [
            "Mounted at /content/gdrive\n"
          ]
        }
      ]
    },
    {
      "cell_type": "markdown",
      "source": [
        "# import data"
      ],
      "metadata": {
        "id": "IiRBP5lhdAdr"
      }
    },
    {
      "cell_type": "code",
      "source": [
        "#upload data from my drive \n",
        "data = pd.read_excel(r\"/content/gdrive/MyDrive/dataset-clb-final-project.xlsx\")# the path to data\n",
        "print(data)"
      ],
      "metadata": {
        "colab": {
          "base_uri": "https://localhost:8080/"
        },
        "id": "TWbtUYU7GgFd",
        "outputId": "185aef21-f3f3-49e5-9f45-1ad83304f218"
      },
      "execution_count": 193,
      "outputs": [
        {
          "output_type": "stream",
          "name": "stdout",
          "text": [
            "                 id  launched_at  deadline  ...  data  iot       state\n",
            "0      7.965543e+08      43560.0   43570.0  ...   0.0  0.0      failed\n",
            "1      5.663813e+08      43557.0   43572.0  ...   0.0  0.0  successful\n",
            "2      1.703023e+09      43553.0   43568.0  ...   0.0  0.0      failed\n",
            "3      6.557162e+08      43550.0   43570.0  ...   0.0  0.0      failed\n",
            "4      3.388981e+08      43550.0   43571.0  ...   0.0  0.0  successful\n",
            "...             ...          ...       ...  ...   ...  ...         ...\n",
            "17728  1.938168e+09      40058.0   40102.0  ...   0.0  0.0  successful\n",
            "17729  1.451429e+09      40057.0   40087.0  ...   0.0  0.0  successful\n",
            "17730  1.382536e+09      40002.0   40057.0  ...   0.0  0.0  successful\n",
            "17731  3.540191e+08      39952.0   40008.0  ...   0.0  0.0  successful\n",
            "17732  1.779215e+08      39932.0   39979.0  ...   0.0  0.0  successful\n",
            "\n",
            "[17733 rows x 102 columns]\n"
          ]
        }
      ]
    },
    {
      "cell_type": "markdown",
      "source": [
        "# EDA"
      ],
      "metadata": {
        "id": "lAk0QZ7kdJSA"
      }
    },
    {
      "cell_type": "code",
      "source": [
        "data['you'].value_counts()"
      ],
      "metadata": {
        "colab": {
          "base_uri": "https://localhost:8080/"
        },
        "id": "WnZHEIuMkh4_",
        "outputId": "9fdeb1d9-98d5-4cb4-a93f-0865b37aacc1"
      },
      "execution_count": 194,
      "outputs": [
        {
          "output_type": "execute_result",
          "data": {
            "text/plain": [
              "0.0    17402\n",
              "1.0      319\n",
              "2.0       11\n",
              "`          1\n",
              "Name: you, dtype: int64"
            ]
          },
          "metadata": {},
          "execution_count": 194
        }
      ]
    },
    {
      "cell_type": "code",
      "source": [
        "data['you'] = data['you'].replace('`', 0)# convert sign (`) to int\n",
        "data['you'] = data['you'].astype('int64')"
      ],
      "metadata": {
        "id": "lEEHuVLbknvB"
      },
      "execution_count": 195,
      "outputs": []
    },
    {
      "cell_type": "code",
      "source": [
        "data.info()"
      ],
      "metadata": {
        "id": "M2VxyZXx1nzP",
        "colab": {
          "base_uri": "https://localhost:8080/"
        },
        "outputId": "9e2b602e-e867-4952-f948-8cbd75c8e1fd"
      },
      "execution_count": 196,
      "outputs": [
        {
          "output_type": "stream",
          "name": "stdout",
          "text": [
            "<class 'pandas.core.frame.DataFrame'>\n",
            "RangeIndex: 17733 entries, 0 to 17732\n",
            "Columns: 102 entries, id to state\n",
            "dtypes: float64(100), int64(1), object(1)\n",
            "memory usage: 13.8+ MB\n"
          ]
        }
      ]
    },
    {
      "cell_type": "code",
      "source": [
        "data.year.value_counts(normalize=True)\n",
        "data.state.value_counts()\n"
      ],
      "metadata": {
        "colab": {
          "base_uri": "https://localhost:8080/"
        },
        "id": "_3b53niL2qRA",
        "outputId": "4d935d4d-7b3f-46ad-e71e-05c1c248e6f2"
      },
      "execution_count": 197,
      "outputs": [
        {
          "output_type": "execute_result",
          "data": {
            "text/plain": [
              "failed        11326\n",
              "successful     6407\n",
              "Name: state, dtype: int64"
            ]
          },
          "metadata": {},
          "execution_count": 197
        }
      ]
    },
    {
      "cell_type": "code",
      "source": [
        "duplicates = data[data.duplicated(subset='id')]\n",
        "print(f\"Of the {len(data)} projects in the dataset, there are {len(data[data.duplicated(subset='id')])} which are listed more than once.\")\n",
        "print(f\"Of these, {len(data[data.duplicated()])} have every value in common between duplicates.\")"
      ],
      "metadata": {
        "colab": {
          "base_uri": "https://localhost:8080/"
        },
        "id": "MBq4Xzm03ktF",
        "outputId": "c623c7e5-0c0f-4395-faff-50b18faa37eb"
      },
      "execution_count": 198,
      "outputs": [
        {
          "output_type": "stream",
          "name": "stdout",
          "text": [
            "Of the 17733 projects in the dataset, there are 0 which are listed more than once.\n",
            "Of these, 0 have every value in common between duplicates.\n"
          ]
        }
      ]
    },
    {
      "cell_type": "code",
      "source": [
        "# cleaning empty colums from my data \n",
        "data=data.drop(columns=data.columns[data.eq(0).mean()>0.90])\n"
      ],
      "metadata": {
        "id": "eib5I8qUwVtQ"
      },
      "execution_count": 199,
      "outputs": []
    },
    {
      "cell_type": "code",
      "source": [
        "data.describe()\n",
        "data.shape"
      ],
      "metadata": {
        "colab": {
          "base_uri": "https://localhost:8080/"
        },
        "id": "HwiiaYvydRa9",
        "outputId": "4a9b47f5-11f6-4add-b203-1bb8ff368d63"
      },
      "execution_count": 200,
      "outputs": [
        {
          "output_type": "execute_result",
          "data": {
            "text/plain": [
              "(17733, 9)"
            ]
          },
          "metadata": {},
          "execution_count": 200
        }
      ]
    },
    {
      "cell_type": "code",
      "source": [
        "data.describe(include='object')"
      ],
      "metadata": {
        "colab": {
          "base_uri": "https://localhost:8080/",
          "height": 174
        },
        "id": "HMqbJLUbdVdh",
        "outputId": "0a73e3f6-98cf-47e8-9b37-17307eed1603"
      },
      "execution_count": 201,
      "outputs": [
        {
          "output_type": "execute_result",
          "data": {
            "text/html": [
              "\n",
              "  <div id=\"df-23e8190a-100c-402e-a3d0-b55b978b18d8\">\n",
              "    <div class=\"colab-df-container\">\n",
              "      <div>\n",
              "<style scoped>\n",
              "    .dataframe tbody tr th:only-of-type {\n",
              "        vertical-align: middle;\n",
              "    }\n",
              "\n",
              "    .dataframe tbody tr th {\n",
              "        vertical-align: top;\n",
              "    }\n",
              "\n",
              "    .dataframe thead th {\n",
              "        text-align: right;\n",
              "    }\n",
              "</style>\n",
              "<table border=\"1\" class=\"dataframe\">\n",
              "  <thead>\n",
              "    <tr style=\"text-align: right;\">\n",
              "      <th></th>\n",
              "      <th>state</th>\n",
              "    </tr>\n",
              "  </thead>\n",
              "  <tbody>\n",
              "    <tr>\n",
              "      <th>count</th>\n",
              "      <td>17733</td>\n",
              "    </tr>\n",
              "    <tr>\n",
              "      <th>unique</th>\n",
              "      <td>2</td>\n",
              "    </tr>\n",
              "    <tr>\n",
              "      <th>top</th>\n",
              "      <td>failed</td>\n",
              "    </tr>\n",
              "    <tr>\n",
              "      <th>freq</th>\n",
              "      <td>11326</td>\n",
              "    </tr>\n",
              "  </tbody>\n",
              "</table>\n",
              "</div>\n",
              "      <button class=\"colab-df-convert\" onclick=\"convertToInteractive('df-23e8190a-100c-402e-a3d0-b55b978b18d8')\"\n",
              "              title=\"Convert this dataframe to an interactive table.\"\n",
              "              style=\"display:none;\">\n",
              "        \n",
              "  <svg xmlns=\"http://www.w3.org/2000/svg\" height=\"24px\"viewBox=\"0 0 24 24\"\n",
              "       width=\"24px\">\n",
              "    <path d=\"M0 0h24v24H0V0z\" fill=\"none\"/>\n",
              "    <path d=\"M18.56 5.44l.94 2.06.94-2.06 2.06-.94-2.06-.94-.94-2.06-.94 2.06-2.06.94zm-11 1L8.5 8.5l.94-2.06 2.06-.94-2.06-.94L8.5 2.5l-.94 2.06-2.06.94zm10 10l.94 2.06.94-2.06 2.06-.94-2.06-.94-.94-2.06-.94 2.06-2.06.94z\"/><path d=\"M17.41 7.96l-1.37-1.37c-.4-.4-.92-.59-1.43-.59-.52 0-1.04.2-1.43.59L10.3 9.45l-7.72 7.72c-.78.78-.78 2.05 0 2.83L4 21.41c.39.39.9.59 1.41.59.51 0 1.02-.2 1.41-.59l7.78-7.78 2.81-2.81c.8-.78.8-2.07 0-2.86zM5.41 20L4 18.59l7.72-7.72 1.47 1.35L5.41 20z\"/>\n",
              "  </svg>\n",
              "      </button>\n",
              "      \n",
              "  <style>\n",
              "    .colab-df-container {\n",
              "      display:flex;\n",
              "      flex-wrap:wrap;\n",
              "      gap: 12px;\n",
              "    }\n",
              "\n",
              "    .colab-df-convert {\n",
              "      background-color: #E8F0FE;\n",
              "      border: none;\n",
              "      border-radius: 50%;\n",
              "      cursor: pointer;\n",
              "      display: none;\n",
              "      fill: #1967D2;\n",
              "      height: 32px;\n",
              "      padding: 0 0 0 0;\n",
              "      width: 32px;\n",
              "    }\n",
              "\n",
              "    .colab-df-convert:hover {\n",
              "      background-color: #E2EBFA;\n",
              "      box-shadow: 0px 1px 2px rgba(60, 64, 67, 0.3), 0px 1px 3px 1px rgba(60, 64, 67, 0.15);\n",
              "      fill: #174EA6;\n",
              "    }\n",
              "\n",
              "    [theme=dark] .colab-df-convert {\n",
              "      background-color: #3B4455;\n",
              "      fill: #D2E3FC;\n",
              "    }\n",
              "\n",
              "    [theme=dark] .colab-df-convert:hover {\n",
              "      background-color: #434B5C;\n",
              "      box-shadow: 0px 1px 3px 1px rgba(0, 0, 0, 0.15);\n",
              "      filter: drop-shadow(0px 1px 2px rgba(0, 0, 0, 0.3));\n",
              "      fill: #FFFFFF;\n",
              "    }\n",
              "  </style>\n",
              "\n",
              "      <script>\n",
              "        const buttonEl =\n",
              "          document.querySelector('#df-23e8190a-100c-402e-a3d0-b55b978b18d8 button.colab-df-convert');\n",
              "        buttonEl.style.display =\n",
              "          google.colab.kernel.accessAllowed ? 'block' : 'none';\n",
              "\n",
              "        async function convertToInteractive(key) {\n",
              "          const element = document.querySelector('#df-23e8190a-100c-402e-a3d0-b55b978b18d8');\n",
              "          const dataTable =\n",
              "            await google.colab.kernel.invokeFunction('convertToInteractive',\n",
              "                                                     [key], {});\n",
              "          if (!dataTable) return;\n",
              "\n",
              "          const docLinkHtml = 'Like what you see? Visit the ' +\n",
              "            '<a target=\"_blank\" href=https://colab.research.google.com/notebooks/data_table.ipynb>data table notebook</a>'\n",
              "            + ' to learn more about interactive tables.';\n",
              "          element.innerHTML = '';\n",
              "          dataTable['output_type'] = 'display_data';\n",
              "          await google.colab.output.renderOutput(dataTable, element);\n",
              "          const docLink = document.createElement('div');\n",
              "          docLink.innerHTML = docLinkHtml;\n",
              "          element.appendChild(docLink);\n",
              "        }\n",
              "      </script>\n",
              "    </div>\n",
              "  </div>\n",
              "  "
            ],
            "text/plain": [
              "         state\n",
              "count    17733\n",
              "unique       2\n",
              "top     failed\n",
              "freq     11326"
            ]
          },
          "metadata": {},
          "execution_count": 201
        }
      ]
    },
    {
      "cell_type": "markdown",
      "source": [
        "# Train Test Split"
      ],
      "metadata": {
        "id": "G4rOYYTEdRoY"
      }
    },
    {
      "cell_type": "code",
      "source": [
        "data.columns"
      ],
      "metadata": {
        "colab": {
          "base_uri": "https://localhost:8080/"
        },
        "id": "s2M-qlLMeIPp",
        "outputId": "8ae5d1fe-3381-44af-e00c-023025922778"
      },
      "execution_count": 202,
      "outputs": [
        {
          "output_type": "execute_result",
          "data": {
            "text/plain": [
              "Index(['id', 'launched_at', 'deadline', 'Duration', 'year', 'goal',\n",
              "       'staff_pick', 'country', 'state'],\n",
              "      dtype='object')"
            ]
          },
          "metadata": {},
          "execution_count": 202
        }
      ]
    },
    {
      "cell_type": "code",
      "source": [
        "features = ['id', 'launched_at', 'deadline', 'Duration', 'year', 'goal',\n",
        "       'staff_pick', 'country']\n",
        "target= ['state']"
      ],
      "metadata": {
        "id": "DoU_Q5oPzsZi"
      },
      "execution_count": 203,
      "outputs": []
    },
    {
      "cell_type": "code",
      "source": [
        "# features = ['launched_at', 'deadline', 'Duration', 'year', 'goal', 'your', 'app',\n",
        "#        '3d', 'smart', 'first', 'new world', 'system', 'new',  'social', 'you',\n",
        "#        'mobile', 'printer', 'arduino', 'project', 'pi', 'wireless', 'platform',\n",
        "#        'power', 'robot', 'light', 'phone', 'raspberry', 'home', 'online',\n",
        "#        'most', 'kit', 'way', 'open', 'iphone', 'led', 'music', 'ultimate',\n",
        "#        'help', 'control', 'digital', 'software', 'make', 'device', 'network',\n",
        "#        'free', 'drone', 'one', 'best', 'video', 'learn', 'smartphone', 'space',\n",
        "#        'portable', 'life', 'tool', 'source', 'personal', 'technology', 'easy',\n",
        "#        'virtual', 'case', 'wearable', 'more', 'diy', 'bluetooth', 'affordable',\n",
        "#        'audio', 'build', 'charger', 'made', 'android', 'my', 'watch', 'time',\n",
        "#        'wifi', 'people', 'future', 'sound', 'controller', 'media', 'travel',\n",
        "#        'robotics', 'water', 'get', 'pro', 'battery', 'better', 'next',\n",
        "#        'reality', 'charging', 'computer', 'machine', 'solution', 'development',\n",
        "#        'air', 'headphones', 'data', 'iot']\n",
        "#target = ['state']\n"
      ],
      "metadata": {
        "id": "vC8pz7isdgBS"
      },
      "execution_count": 25,
      "outputs": []
    },
    {
      "cell_type": "code",
      "source": [
        "X = data[features]\n",
        "y = data[target]"
      ],
      "metadata": {
        "id": "fbzDNk33edEz"
      },
      "execution_count": 204,
      "outputs": []
    },
    {
      "cell_type": "code",
      "source": [
        "X_temp, X_test, y_temp, y_test = train_test_split(X, y, test_size=.3, random_state=123)\n",
        "X_train, X_val, y_train, y_val = train_test_split(X_temp, y_temp, test_size=.3, random_state=123)"
      ],
      "metadata": {
        "id": "oGZzaOpgelk2"
      },
      "execution_count": 205,
      "outputs": []
    },
    {
      "cell_type": "code",
      "source": [
        "X_train.head()\n"
      ],
      "metadata": {
        "colab": {
          "base_uri": "https://localhost:8080/",
          "height": 206
        },
        "id": "2NboONWXe2xn",
        "outputId": "472c03f8-7339-4bce-cbfc-55bc4713af05"
      },
      "execution_count": 206,
      "outputs": [
        {
          "output_type": "execute_result",
          "data": {
            "text/html": [
              "\n",
              "  <div id=\"df-fbfb7a0b-773f-44a0-a748-d6a6fe5c0821\">\n",
              "    <div class=\"colab-df-container\">\n",
              "      <div>\n",
              "<style scoped>\n",
              "    .dataframe tbody tr th:only-of-type {\n",
              "        vertical-align: middle;\n",
              "    }\n",
              "\n",
              "    .dataframe tbody tr th {\n",
              "        vertical-align: top;\n",
              "    }\n",
              "\n",
              "    .dataframe thead th {\n",
              "        text-align: right;\n",
              "    }\n",
              "</style>\n",
              "<table border=\"1\" class=\"dataframe\">\n",
              "  <thead>\n",
              "    <tr style=\"text-align: right;\">\n",
              "      <th></th>\n",
              "      <th>id</th>\n",
              "      <th>launched_at</th>\n",
              "      <th>deadline</th>\n",
              "      <th>Duration</th>\n",
              "      <th>year</th>\n",
              "      <th>goal</th>\n",
              "      <th>staff_pick</th>\n",
              "      <th>country</th>\n",
              "    </tr>\n",
              "  </thead>\n",
              "  <tbody>\n",
              "    <tr>\n",
              "      <th>15330</th>\n",
              "      <td>4.934378e+07</td>\n",
              "      <td>41960.0</td>\n",
              "      <td>41990.0</td>\n",
              "      <td>30.0</td>\n",
              "      <td>2014.0</td>\n",
              "      <td>10000.0</td>\n",
              "      <td>0.0</td>\n",
              "      <td>1.0</td>\n",
              "    </tr>\n",
              "    <tr>\n",
              "      <th>5038</th>\n",
              "      <td>1.605451e+09</td>\n",
              "      <td>42968.0</td>\n",
              "      <td>42998.0</td>\n",
              "      <td>30.0</td>\n",
              "      <td>2017.0</td>\n",
              "      <td>12600.0</td>\n",
              "      <td>0.0</td>\n",
              "      <td>0.0</td>\n",
              "    </tr>\n",
              "    <tr>\n",
              "      <th>11557</th>\n",
              "      <td>1.803310e+09</td>\n",
              "      <td>42327.0</td>\n",
              "      <td>42357.0</td>\n",
              "      <td>30.0</td>\n",
              "      <td>2015.0</td>\n",
              "      <td>20000.0</td>\n",
              "      <td>1.0</td>\n",
              "      <td>1.0</td>\n",
              "    </tr>\n",
              "    <tr>\n",
              "      <th>9235</th>\n",
              "      <td>1.385126e+09</td>\n",
              "      <td>42565.0</td>\n",
              "      <td>42603.0</td>\n",
              "      <td>38.0</td>\n",
              "      <td>2016.0</td>\n",
              "      <td>50000.0</td>\n",
              "      <td>0.0</td>\n",
              "      <td>1.0</td>\n",
              "    </tr>\n",
              "    <tr>\n",
              "      <th>11107</th>\n",
              "      <td>3.361091e+08</td>\n",
              "      <td>42378.0</td>\n",
              "      <td>42408.0</td>\n",
              "      <td>30.0</td>\n",
              "      <td>2016.0</td>\n",
              "      <td>35000.0</td>\n",
              "      <td>0.0</td>\n",
              "      <td>1.0</td>\n",
              "    </tr>\n",
              "  </tbody>\n",
              "</table>\n",
              "</div>\n",
              "      <button class=\"colab-df-convert\" onclick=\"convertToInteractive('df-fbfb7a0b-773f-44a0-a748-d6a6fe5c0821')\"\n",
              "              title=\"Convert this dataframe to an interactive table.\"\n",
              "              style=\"display:none;\">\n",
              "        \n",
              "  <svg xmlns=\"http://www.w3.org/2000/svg\" height=\"24px\"viewBox=\"0 0 24 24\"\n",
              "       width=\"24px\">\n",
              "    <path d=\"M0 0h24v24H0V0z\" fill=\"none\"/>\n",
              "    <path d=\"M18.56 5.44l.94 2.06.94-2.06 2.06-.94-2.06-.94-.94-2.06-.94 2.06-2.06.94zm-11 1L8.5 8.5l.94-2.06 2.06-.94-2.06-.94L8.5 2.5l-.94 2.06-2.06.94zm10 10l.94 2.06.94-2.06 2.06-.94-2.06-.94-.94-2.06-.94 2.06-2.06.94z\"/><path d=\"M17.41 7.96l-1.37-1.37c-.4-.4-.92-.59-1.43-.59-.52 0-1.04.2-1.43.59L10.3 9.45l-7.72 7.72c-.78.78-.78 2.05 0 2.83L4 21.41c.39.39.9.59 1.41.59.51 0 1.02-.2 1.41-.59l7.78-7.78 2.81-2.81c.8-.78.8-2.07 0-2.86zM5.41 20L4 18.59l7.72-7.72 1.47 1.35L5.41 20z\"/>\n",
              "  </svg>\n",
              "      </button>\n",
              "      \n",
              "  <style>\n",
              "    .colab-df-container {\n",
              "      display:flex;\n",
              "      flex-wrap:wrap;\n",
              "      gap: 12px;\n",
              "    }\n",
              "\n",
              "    .colab-df-convert {\n",
              "      background-color: #E8F0FE;\n",
              "      border: none;\n",
              "      border-radius: 50%;\n",
              "      cursor: pointer;\n",
              "      display: none;\n",
              "      fill: #1967D2;\n",
              "      height: 32px;\n",
              "      padding: 0 0 0 0;\n",
              "      width: 32px;\n",
              "    }\n",
              "\n",
              "    .colab-df-convert:hover {\n",
              "      background-color: #E2EBFA;\n",
              "      box-shadow: 0px 1px 2px rgba(60, 64, 67, 0.3), 0px 1px 3px 1px rgba(60, 64, 67, 0.15);\n",
              "      fill: #174EA6;\n",
              "    }\n",
              "\n",
              "    [theme=dark] .colab-df-convert {\n",
              "      background-color: #3B4455;\n",
              "      fill: #D2E3FC;\n",
              "    }\n",
              "\n",
              "    [theme=dark] .colab-df-convert:hover {\n",
              "      background-color: #434B5C;\n",
              "      box-shadow: 0px 1px 3px 1px rgba(0, 0, 0, 0.15);\n",
              "      filter: drop-shadow(0px 1px 2px rgba(0, 0, 0, 0.3));\n",
              "      fill: #FFFFFF;\n",
              "    }\n",
              "  </style>\n",
              "\n",
              "      <script>\n",
              "        const buttonEl =\n",
              "          document.querySelector('#df-fbfb7a0b-773f-44a0-a748-d6a6fe5c0821 button.colab-df-convert');\n",
              "        buttonEl.style.display =\n",
              "          google.colab.kernel.accessAllowed ? 'block' : 'none';\n",
              "\n",
              "        async function convertToInteractive(key) {\n",
              "          const element = document.querySelector('#df-fbfb7a0b-773f-44a0-a748-d6a6fe5c0821');\n",
              "          const dataTable =\n",
              "            await google.colab.kernel.invokeFunction('convertToInteractive',\n",
              "                                                     [key], {});\n",
              "          if (!dataTable) return;\n",
              "\n",
              "          const docLinkHtml = 'Like what you see? Visit the ' +\n",
              "            '<a target=\"_blank\" href=https://colab.research.google.com/notebooks/data_table.ipynb>data table notebook</a>'\n",
              "            + ' to learn more about interactive tables.';\n",
              "          element.innerHTML = '';\n",
              "          dataTable['output_type'] = 'display_data';\n",
              "          await google.colab.output.renderOutput(dataTable, element);\n",
              "          const docLink = document.createElement('div');\n",
              "          docLink.innerHTML = docLinkHtml;\n",
              "          element.appendChild(docLink);\n",
              "        }\n",
              "      </script>\n",
              "    </div>\n",
              "  </div>\n",
              "  "
            ],
            "text/plain": [
              "                 id  launched_at  deadline  ...     goal  staff_pick  country\n",
              "15330  4.934378e+07      41960.0   41990.0  ...  10000.0         0.0      1.0\n",
              "5038   1.605451e+09      42968.0   42998.0  ...  12600.0         0.0      0.0\n",
              "11557  1.803310e+09      42327.0   42357.0  ...  20000.0         1.0      1.0\n",
              "9235   1.385126e+09      42565.0   42603.0  ...  50000.0         0.0      1.0\n",
              "11107  3.361091e+08      42378.0   42408.0  ...  35000.0         0.0      1.0\n",
              "\n",
              "[5 rows x 8 columns]"
            ]
          },
          "metadata": {},
          "execution_count": 206
        }
      ]
    },
    {
      "cell_type": "code",
      "source": [
        "X_test.head(5)"
      ],
      "metadata": {
        "colab": {
          "base_uri": "https://localhost:8080/",
          "height": 206
        },
        "id": "xO4f5a3Qe5P9",
        "outputId": "8e5c12ec-05a0-4fe8-d399-fdbee0f06f9d"
      },
      "execution_count": 207,
      "outputs": [
        {
          "output_type": "execute_result",
          "data": {
            "text/html": [
              "\n",
              "  <div id=\"df-26cb1c44-0982-4685-89a9-a27b18f4b6e7\">\n",
              "    <div class=\"colab-df-container\">\n",
              "      <div>\n",
              "<style scoped>\n",
              "    .dataframe tbody tr th:only-of-type {\n",
              "        vertical-align: middle;\n",
              "    }\n",
              "\n",
              "    .dataframe tbody tr th {\n",
              "        vertical-align: top;\n",
              "    }\n",
              "\n",
              "    .dataframe thead th {\n",
              "        text-align: right;\n",
              "    }\n",
              "</style>\n",
              "<table border=\"1\" class=\"dataframe\">\n",
              "  <thead>\n",
              "    <tr style=\"text-align: right;\">\n",
              "      <th></th>\n",
              "      <th>id</th>\n",
              "      <th>launched_at</th>\n",
              "      <th>deadline</th>\n",
              "      <th>Duration</th>\n",
              "      <th>year</th>\n",
              "      <th>goal</th>\n",
              "      <th>staff_pick</th>\n",
              "      <th>country</th>\n",
              "    </tr>\n",
              "  </thead>\n",
              "  <tbody>\n",
              "    <tr>\n",
              "      <th>579</th>\n",
              "      <td>1.070287e+09</td>\n",
              "      <td>43439.0</td>\n",
              "      <td>43469.0</td>\n",
              "      <td>30.0</td>\n",
              "      <td>2018.0</td>\n",
              "      <td>100000.0</td>\n",
              "      <td>0.0</td>\n",
              "      <td>1.0</td>\n",
              "    </tr>\n",
              "    <tr>\n",
              "      <th>1632</th>\n",
              "      <td>1.032523e+09</td>\n",
              "      <td>43312.0</td>\n",
              "      <td>43357.0</td>\n",
              "      <td>45.0</td>\n",
              "      <td>2018.0</td>\n",
              "      <td>70000.0</td>\n",
              "      <td>0.0</td>\n",
              "      <td>1.0</td>\n",
              "    </tr>\n",
              "    <tr>\n",
              "      <th>12983</th>\n",
              "      <td>5.922226e+08</td>\n",
              "      <td>42209.0</td>\n",
              "      <td>42239.0</td>\n",
              "      <td>30.0</td>\n",
              "      <td>2015.0</td>\n",
              "      <td>5000.0</td>\n",
              "      <td>0.0</td>\n",
              "      <td>1.0</td>\n",
              "    </tr>\n",
              "    <tr>\n",
              "      <th>10874</th>\n",
              "      <td>1.921944e+09</td>\n",
              "      <td>42402.0</td>\n",
              "      <td>42432.0</td>\n",
              "      <td>30.0</td>\n",
              "      <td>2016.0</td>\n",
              "      <td>25000.0</td>\n",
              "      <td>0.0</td>\n",
              "      <td>0.0</td>\n",
              "    </tr>\n",
              "    <tr>\n",
              "      <th>16205</th>\n",
              "      <td>6.556193e+08</td>\n",
              "      <td>41845.0</td>\n",
              "      <td>41875.0</td>\n",
              "      <td>30.0</td>\n",
              "      <td>2014.0</td>\n",
              "      <td>2500.0</td>\n",
              "      <td>0.0</td>\n",
              "      <td>1.0</td>\n",
              "    </tr>\n",
              "  </tbody>\n",
              "</table>\n",
              "</div>\n",
              "      <button class=\"colab-df-convert\" onclick=\"convertToInteractive('df-26cb1c44-0982-4685-89a9-a27b18f4b6e7')\"\n",
              "              title=\"Convert this dataframe to an interactive table.\"\n",
              "              style=\"display:none;\">\n",
              "        \n",
              "  <svg xmlns=\"http://www.w3.org/2000/svg\" height=\"24px\"viewBox=\"0 0 24 24\"\n",
              "       width=\"24px\">\n",
              "    <path d=\"M0 0h24v24H0V0z\" fill=\"none\"/>\n",
              "    <path d=\"M18.56 5.44l.94 2.06.94-2.06 2.06-.94-2.06-.94-.94-2.06-.94 2.06-2.06.94zm-11 1L8.5 8.5l.94-2.06 2.06-.94-2.06-.94L8.5 2.5l-.94 2.06-2.06.94zm10 10l.94 2.06.94-2.06 2.06-.94-2.06-.94-.94-2.06-.94 2.06-2.06.94z\"/><path d=\"M17.41 7.96l-1.37-1.37c-.4-.4-.92-.59-1.43-.59-.52 0-1.04.2-1.43.59L10.3 9.45l-7.72 7.72c-.78.78-.78 2.05 0 2.83L4 21.41c.39.39.9.59 1.41.59.51 0 1.02-.2 1.41-.59l7.78-7.78 2.81-2.81c.8-.78.8-2.07 0-2.86zM5.41 20L4 18.59l7.72-7.72 1.47 1.35L5.41 20z\"/>\n",
              "  </svg>\n",
              "      </button>\n",
              "      \n",
              "  <style>\n",
              "    .colab-df-container {\n",
              "      display:flex;\n",
              "      flex-wrap:wrap;\n",
              "      gap: 12px;\n",
              "    }\n",
              "\n",
              "    .colab-df-convert {\n",
              "      background-color: #E8F0FE;\n",
              "      border: none;\n",
              "      border-radius: 50%;\n",
              "      cursor: pointer;\n",
              "      display: none;\n",
              "      fill: #1967D2;\n",
              "      height: 32px;\n",
              "      padding: 0 0 0 0;\n",
              "      width: 32px;\n",
              "    }\n",
              "\n",
              "    .colab-df-convert:hover {\n",
              "      background-color: #E2EBFA;\n",
              "      box-shadow: 0px 1px 2px rgba(60, 64, 67, 0.3), 0px 1px 3px 1px rgba(60, 64, 67, 0.15);\n",
              "      fill: #174EA6;\n",
              "    }\n",
              "\n",
              "    [theme=dark] .colab-df-convert {\n",
              "      background-color: #3B4455;\n",
              "      fill: #D2E3FC;\n",
              "    }\n",
              "\n",
              "    [theme=dark] .colab-df-convert:hover {\n",
              "      background-color: #434B5C;\n",
              "      box-shadow: 0px 1px 3px 1px rgba(0, 0, 0, 0.15);\n",
              "      filter: drop-shadow(0px 1px 2px rgba(0, 0, 0, 0.3));\n",
              "      fill: #FFFFFF;\n",
              "    }\n",
              "  </style>\n",
              "\n",
              "      <script>\n",
              "        const buttonEl =\n",
              "          document.querySelector('#df-26cb1c44-0982-4685-89a9-a27b18f4b6e7 button.colab-df-convert');\n",
              "        buttonEl.style.display =\n",
              "          google.colab.kernel.accessAllowed ? 'block' : 'none';\n",
              "\n",
              "        async function convertToInteractive(key) {\n",
              "          const element = document.querySelector('#df-26cb1c44-0982-4685-89a9-a27b18f4b6e7');\n",
              "          const dataTable =\n",
              "            await google.colab.kernel.invokeFunction('convertToInteractive',\n",
              "                                                     [key], {});\n",
              "          if (!dataTable) return;\n",
              "\n",
              "          const docLinkHtml = 'Like what you see? Visit the ' +\n",
              "            '<a target=\"_blank\" href=https://colab.research.google.com/notebooks/data_table.ipynb>data table notebook</a>'\n",
              "            + ' to learn more about interactive tables.';\n",
              "          element.innerHTML = '';\n",
              "          dataTable['output_type'] = 'display_data';\n",
              "          await google.colab.output.renderOutput(dataTable, element);\n",
              "          const docLink = document.createElement('div');\n",
              "          docLink.innerHTML = docLinkHtml;\n",
              "          element.appendChild(docLink);\n",
              "        }\n",
              "      </script>\n",
              "    </div>\n",
              "  </div>\n",
              "  "
            ],
            "text/plain": [
              "                 id  launched_at  deadline  ...      goal  staff_pick  country\n",
              "579    1.070287e+09      43439.0   43469.0  ...  100000.0         0.0      1.0\n",
              "1632   1.032523e+09      43312.0   43357.0  ...   70000.0         0.0      1.0\n",
              "12983  5.922226e+08      42209.0   42239.0  ...    5000.0         0.0      1.0\n",
              "10874  1.921944e+09      42402.0   42432.0  ...   25000.0         0.0      0.0\n",
              "16205  6.556193e+08      41845.0   41875.0  ...    2500.0         0.0      1.0\n",
              "\n",
              "[5 rows x 8 columns]"
            ]
          },
          "metadata": {},
          "execution_count": 207
        }
      ]
    },
    {
      "cell_type": "code",
      "source": [
        "X_train.shape"
      ],
      "metadata": {
        "colab": {
          "base_uri": "https://localhost:8080/"
        },
        "id": "ALa5mDSugpJW",
        "outputId": "ff12866f-3d56-4e23-8f1a-db0f2adbb974"
      },
      "execution_count": 208,
      "outputs": [
        {
          "output_type": "execute_result",
          "data": {
            "text/plain": [
              "(8689, 8)"
            ]
          },
          "metadata": {},
          "execution_count": 208
        }
      ]
    },
    {
      "cell_type": "markdown",
      "source": [
        "#Normaliztion data\n",
        "\n",
        "\n"
      ],
      "metadata": {
        "id": "4AzWHhmQfLJ5"
      }
    },
    {
      "cell_type": "code",
      "source": [
        "from sklearn.preprocessing import StandardScaler\n",
        "scaler = StandardScaler().fit(X_train)\n",
        "X_train = scaler.transform(X_train)\n",
        "X_val = scaler.transform(X_val)\n",
        "X_test = scaler.transform(X_test)"
      ],
      "metadata": {
        "id": "lKFbN3rM_41U"
      },
      "execution_count": 210,
      "outputs": []
    },
    {
      "cell_type": "code",
      "source": [
        "pca = PCA().fit(X_train)\n",
        "X_train = pca.transform(X_train)\n",
        "X_val = pca.transform(X_val)\n",
        "X_test = pca.transform(X_test)"
      ],
      "metadata": {
        "id": "gxU5vuFs_726"
      },
      "execution_count": 211,
      "outputs": []
    },
    {
      "cell_type": "code",
      "source": [
        "X_train = np.array(X_train)\n",
        "X_test = np.array(X_test)\n",
        "X_val = np.array(X_val)"
      ],
      "metadata": {
        "id": "qPxodJ5kf6JX"
      },
      "execution_count": null,
      "outputs": []
    },
    {
      "cell_type": "code",
      "source": [
        "y_train = pd.get_dummies(y_train)\n",
        "y_val = pd.get_dummies(y_val)\n",
        "y_test = pd.get_dummies(y_test)\n",
        "y_train = np.array(y_train)\n",
        "y_val = np.array(y_val)\n",
        "y_test = np.array(y_test)"
      ],
      "metadata": {
        "id": "knSYCefHf-IR"
      },
      "execution_count": null,
      "outputs": []
    },
    {
      "cell_type": "markdown",
      "source": [
        "#Build model "
      ],
      "metadata": {
        "id": "J1NFdV3LfhPt"
      }
    },
    {
      "cell_type": "code",
      "source": [
        "\n",
        "model = keras.Sequential([\n",
        "                          keras.Input(shape=(8,)),\n",
        "                     \n",
        "                          \n",
        "                          keras.layers.Dense(200, activation='relu'),\n",
        "                          keras.layers.Dropout(.3),\n",
        "                          keras.layers.Dense(80, activation='relu'),\n",
        "                          keras.layers.Flatten(),\n",
        "                          keras.layers.Dense(2, activation=tf.keras.activations.softmax)\n",
        "])\n",
        "model.summary()\n",
        "batch_size = 100\n",
        "epochs = 50\n",
        "metrics = ['acc', tf.keras.metrics.Precision(), tf.keras.metrics.Recall()]\n",
        "model.compile(tf.optimizers.Adam(learning_rate=0.01),\n",
        "              loss=keras.losses.CategoricalCrossentropy(),\n",
        "              metrics=metrics)"
      ],
      "metadata": {
        "colab": {
          "base_uri": "https://localhost:8080/"
        },
        "id": "vUPqG4WCVGMK",
        "outputId": "f730d1dc-4688-4440-f280-9aab0dd19840"
      },
      "execution_count": 212,
      "outputs": [
        {
          "output_type": "stream",
          "name": "stdout",
          "text": [
            "Model: \"sequential_12\"\n",
            "_________________________________________________________________\n",
            " Layer (type)                Output Shape              Param #   \n",
            "=================================================================\n",
            " dense_36 (Dense)            (None, 200)               1800      \n",
            "                                                                 \n",
            " dropout_11 (Dropout)        (None, 200)               0         \n",
            "                                                                 \n",
            " dense_37 (Dense)            (None, 80)                16080     \n",
            "                                                                 \n",
            " flatten_11 (Flatten)        (None, 80)                0         \n",
            "                                                                 \n",
            " dense_38 (Dense)            (None, 2)                 162       \n",
            "                                                                 \n",
            "=================================================================\n",
            "Total params: 18,042\n",
            "Trainable params: 18,042\n",
            "Non-trainable params: 0\n",
            "_________________________________________________________________\n"
          ]
        }
      ]
    },
    {
      "cell_type": "code",
      "source": [
        "history = model.fit(X_train, y_train, \n",
        "          batch_size = batch_size,\n",
        "          epochs = epochs,\n",
        "          validation_data=(X_val, y_val))\n",
        " #"
      ],
      "metadata": {
        "colab": {
          "base_uri": "https://localhost:8080/"
        },
        "id": "LrzKhvmOGXSM",
        "outputId": "92a19472-76d0-4eb9-b53a-b1d53a805931"
      },
      "execution_count": 215,
      "outputs": [
        {
          "output_type": "stream",
          "name": "stdout",
          "text": [
            "Epoch 1/50\n",
            "87/87 [==============================] - 1s 7ms/step - loss: 0.5628 - acc: 0.7373 - precision_12: 0.7373 - recall_12: 0.7373 - val_loss: 0.5287 - val_acc: 0.7551 - val_precision_12: 0.7551 - val_recall_12: 0.7551\n",
            "Epoch 2/50\n",
            "87/87 [==============================] - 0s 4ms/step - loss: 0.5445 - acc: 0.7477 - precision_12: 0.7477 - recall_12: 0.7477 - val_loss: 0.5260 - val_acc: 0.7578 - val_precision_12: 0.7578 - val_recall_12: 0.7578\n",
            "Epoch 3/50\n",
            "87/87 [==============================] - 0s 3ms/step - loss: 0.5382 - acc: 0.7475 - precision_12: 0.7475 - recall_12: 0.7475 - val_loss: 0.5235 - val_acc: 0.7551 - val_precision_12: 0.7551 - val_recall_12: 0.7551\n",
            "Epoch 4/50\n",
            "87/87 [==============================] - 0s 3ms/step - loss: 0.5364 - acc: 0.7485 - precision_12: 0.7485 - recall_12: 0.7485 - val_loss: 0.5223 - val_acc: 0.7591 - val_precision_12: 0.7591 - val_recall_12: 0.7591\n",
            "Epoch 5/50\n",
            "87/87 [==============================] - 0s 3ms/step - loss: 0.5357 - acc: 0.7467 - precision_12: 0.7467 - recall_12: 0.7467 - val_loss: 0.5208 - val_acc: 0.7589 - val_precision_12: 0.7589 - val_recall_12: 0.7589\n",
            "Epoch 6/50\n",
            "87/87 [==============================] - 0s 3ms/step - loss: 0.5334 - acc: 0.7484 - precision_12: 0.7484 - recall_12: 0.7484 - val_loss: 0.5194 - val_acc: 0.7597 - val_precision_12: 0.7597 - val_recall_12: 0.7597\n",
            "Epoch 7/50\n",
            "87/87 [==============================] - 0s 3ms/step - loss: 0.5319 - acc: 0.7497 - precision_12: 0.7497 - recall_12: 0.7497 - val_loss: 0.5098 - val_acc: 0.7621 - val_precision_12: 0.7621 - val_recall_12: 0.7621\n",
            "Epoch 8/50\n",
            "87/87 [==============================] - 0s 3ms/step - loss: 0.5297 - acc: 0.7498 - precision_12: 0.7498 - recall_12: 0.7498 - val_loss: 0.5191 - val_acc: 0.7578 - val_precision_12: 0.7578 - val_recall_12: 0.7578\n",
            "Epoch 9/50\n",
            "87/87 [==============================] - 0s 3ms/step - loss: 0.5303 - acc: 0.7495 - precision_12: 0.7495 - recall_12: 0.7495 - val_loss: 0.5179 - val_acc: 0.7589 - val_precision_12: 0.7589 - val_recall_12: 0.7589\n",
            "Epoch 10/50\n",
            "87/87 [==============================] - 0s 3ms/step - loss: 0.5299 - acc: 0.7484 - precision_12: 0.7484 - recall_12: 0.7484 - val_loss: 0.5201 - val_acc: 0.7581 - val_precision_12: 0.7581 - val_recall_12: 0.7581\n",
            "Epoch 11/50\n",
            "87/87 [==============================] - 0s 3ms/step - loss: 0.5258 - acc: 0.7508 - precision_12: 0.7508 - recall_12: 0.7508 - val_loss: 0.5147 - val_acc: 0.7594 - val_precision_12: 0.7594 - val_recall_12: 0.7594\n",
            "Epoch 12/50\n",
            "87/87 [==============================] - 0s 3ms/step - loss: 0.5265 - acc: 0.7500 - precision_12: 0.7500 - recall_12: 0.7500 - val_loss: 0.5187 - val_acc: 0.7578 - val_precision_12: 0.7578 - val_recall_12: 0.7578\n",
            "Epoch 13/50\n",
            "87/87 [==============================] - 0s 3ms/step - loss: 0.5243 - acc: 0.7516 - precision_12: 0.7516 - recall_12: 0.7516 - val_loss: 0.5081 - val_acc: 0.7602 - val_precision_12: 0.7602 - val_recall_12: 0.7602\n",
            "Epoch 14/50\n",
            "87/87 [==============================] - 0s 3ms/step - loss: 0.5244 - acc: 0.7508 - precision_12: 0.7508 - recall_12: 0.7508 - val_loss: 0.5055 - val_acc: 0.7621 - val_precision_12: 0.7621 - val_recall_12: 0.7621\n",
            "Epoch 15/50\n",
            "87/87 [==============================] - 0s 3ms/step - loss: 0.5256 - acc: 0.7526 - precision_12: 0.7526 - recall_12: 0.7526 - val_loss: 0.5248 - val_acc: 0.7570 - val_precision_12: 0.7570 - val_recall_12: 0.7570\n",
            "Epoch 16/50\n",
            "87/87 [==============================] - 0s 3ms/step - loss: 0.5301 - acc: 0.7498 - precision_12: 0.7498 - recall_12: 0.7498 - val_loss: 0.5132 - val_acc: 0.7602 - val_precision_12: 0.7602 - val_recall_12: 0.7602\n",
            "Epoch 17/50\n",
            "87/87 [==============================] - 0s 3ms/step - loss: 0.5261 - acc: 0.7516 - precision_12: 0.7516 - recall_12: 0.7516 - val_loss: 0.5045 - val_acc: 0.7613 - val_precision_12: 0.7613 - val_recall_12: 0.7613\n",
            "Epoch 18/50\n",
            "87/87 [==============================] - 0s 3ms/step - loss: 0.5188 - acc: 0.7509 - precision_12: 0.7509 - recall_12: 0.7509 - val_loss: 0.5111 - val_acc: 0.7599 - val_precision_12: 0.7599 - val_recall_12: 0.7599\n",
            "Epoch 19/50\n",
            "87/87 [==============================] - 0s 3ms/step - loss: 0.5217 - acc: 0.7499 - precision_12: 0.7499 - recall_12: 0.7499 - val_loss: 0.5030 - val_acc: 0.7605 - val_precision_12: 0.7605 - val_recall_12: 0.7605\n",
            "Epoch 20/50\n",
            "87/87 [==============================] - 0s 3ms/step - loss: 0.5177 - acc: 0.7518 - precision_12: 0.7518 - recall_12: 0.7518 - val_loss: 0.5066 - val_acc: 0.7607 - val_precision_12: 0.7607 - val_recall_12: 0.7607\n",
            "Epoch 21/50\n",
            "87/87 [==============================] - 0s 3ms/step - loss: 0.5229 - acc: 0.7506 - precision_12: 0.7506 - recall_12: 0.7506 - val_loss: 0.5084 - val_acc: 0.7578 - val_precision_12: 0.7578 - val_recall_12: 0.7578\n",
            "Epoch 22/50\n",
            "87/87 [==============================] - 0s 3ms/step - loss: 0.5203 - acc: 0.7511 - precision_12: 0.7511 - recall_12: 0.7511 - val_loss: 0.5184 - val_acc: 0.7610 - val_precision_12: 0.7610 - val_recall_12: 0.7610\n",
            "Epoch 23/50\n",
            "87/87 [==============================] - 0s 3ms/step - loss: 0.5210 - acc: 0.7505 - precision_12: 0.7505 - recall_12: 0.7505 - val_loss: 0.5180 - val_acc: 0.7602 - val_precision_12: 0.7602 - val_recall_12: 0.7602\n",
            "Epoch 24/50\n",
            "87/87 [==============================] - 0s 3ms/step - loss: 0.5233 - acc: 0.7518 - precision_12: 0.7518 - recall_12: 0.7518 - val_loss: 0.5055 - val_acc: 0.7602 - val_precision_12: 0.7602 - val_recall_12: 0.7602\n",
            "Epoch 25/50\n",
            "87/87 [==============================] - 0s 3ms/step - loss: 0.5184 - acc: 0.7507 - precision_12: 0.7507 - recall_12: 0.7507 - val_loss: 0.5160 - val_acc: 0.7511 - val_precision_12: 0.7511 - val_recall_12: 0.7511\n",
            "Epoch 26/50\n",
            "87/87 [==============================] - 0s 3ms/step - loss: 0.5180 - acc: 0.7520 - precision_12: 0.7520 - recall_12: 0.7520 - val_loss: 0.5082 - val_acc: 0.7624 - val_precision_12: 0.7624 - val_recall_12: 0.7624\n",
            "Epoch 27/50\n",
            "87/87 [==============================] - 0s 3ms/step - loss: 0.5165 - acc: 0.7500 - precision_12: 0.7500 - recall_12: 0.7500 - val_loss: 0.5075 - val_acc: 0.7599 - val_precision_12: 0.7599 - val_recall_12: 0.7599\n",
            "Epoch 28/50\n",
            "87/87 [==============================] - 0s 3ms/step - loss: 0.5157 - acc: 0.7514 - precision_12: 0.7514 - recall_12: 0.7514 - val_loss: 0.5168 - val_acc: 0.7607 - val_precision_12: 0.7607 - val_recall_12: 0.7607\n",
            "Epoch 29/50\n",
            "87/87 [==============================] - 0s 3ms/step - loss: 0.5190 - acc: 0.7521 - precision_12: 0.7521 - recall_12: 0.7521 - val_loss: 0.5059 - val_acc: 0.7613 - val_precision_12: 0.7613 - val_recall_12: 0.7613\n",
            "Epoch 30/50\n",
            "87/87 [==============================] - 0s 3ms/step - loss: 0.5148 - acc: 0.7530 - precision_12: 0.7530 - recall_12: 0.7530 - val_loss: 0.5054 - val_acc: 0.7632 - val_precision_12: 0.7632 - val_recall_12: 0.7632\n",
            "Epoch 31/50\n",
            "87/87 [==============================] - 0s 3ms/step - loss: 0.5182 - acc: 0.7520 - precision_12: 0.7520 - recall_12: 0.7520 - val_loss: 0.5034 - val_acc: 0.7610 - val_precision_12: 0.7610 - val_recall_12: 0.7610\n",
            "Epoch 32/50\n",
            "87/87 [==============================] - 0s 3ms/step - loss: 0.5183 - acc: 0.7527 - precision_12: 0.7527 - recall_12: 0.7527 - val_loss: 0.5069 - val_acc: 0.7613 - val_precision_12: 0.7613 - val_recall_12: 0.7613\n",
            "Epoch 33/50\n",
            "87/87 [==============================] - 0s 3ms/step - loss: 0.5165 - acc: 0.7528 - precision_12: 0.7528 - recall_12: 0.7528 - val_loss: 0.5136 - val_acc: 0.7570 - val_precision_12: 0.7570 - val_recall_12: 0.7570\n",
            "Epoch 34/50\n",
            "87/87 [==============================] - 0s 3ms/step - loss: 0.5169 - acc: 0.7512 - precision_12: 0.7512 - recall_12: 0.7512 - val_loss: 0.5167 - val_acc: 0.7610 - val_precision_12: 0.7610 - val_recall_12: 0.7610\n",
            "Epoch 35/50\n",
            "87/87 [==============================] - 0s 3ms/step - loss: 0.5151 - acc: 0.7499 - precision_12: 0.7499 - recall_12: 0.7499 - val_loss: 0.5061 - val_acc: 0.7605 - val_precision_12: 0.7605 - val_recall_12: 0.7605\n",
            "Epoch 36/50\n",
            "87/87 [==============================] - 0s 3ms/step - loss: 0.5151 - acc: 0.7529 - precision_12: 0.7529 - recall_12: 0.7529 - val_loss: 0.5065 - val_acc: 0.7624 - val_precision_12: 0.7624 - val_recall_12: 0.7624\n",
            "Epoch 37/50\n",
            "87/87 [==============================] - 0s 3ms/step - loss: 0.5146 - acc: 0.7511 - precision_12: 0.7511 - recall_12: 0.7511 - val_loss: 0.5065 - val_acc: 0.7597 - val_precision_12: 0.7597 - val_recall_12: 0.7597\n",
            "Epoch 38/50\n",
            "87/87 [==============================] - 0s 3ms/step - loss: 0.5126 - acc: 0.7536 - precision_12: 0.7536 - recall_12: 0.7536 - val_loss: 0.5103 - val_acc: 0.7602 - val_precision_12: 0.7602 - val_recall_12: 0.7602\n",
            "Epoch 39/50\n",
            "87/87 [==============================] - 0s 3ms/step - loss: 0.5181 - acc: 0.7537 - precision_12: 0.7537 - recall_12: 0.7537 - val_loss: 0.5107 - val_acc: 0.7567 - val_precision_12: 0.7567 - val_recall_12: 0.7567\n",
            "Epoch 40/50\n",
            "87/87 [==============================] - 0s 3ms/step - loss: 0.5137 - acc: 0.7529 - precision_12: 0.7529 - recall_12: 0.7529 - val_loss: 0.5058 - val_acc: 0.7632 - val_precision_12: 0.7632 - val_recall_12: 0.7632\n",
            "Epoch 41/50\n",
            "87/87 [==============================] - 0s 3ms/step - loss: 0.5141 - acc: 0.7503 - precision_12: 0.7503 - recall_12: 0.7503 - val_loss: 0.5075 - val_acc: 0.7624 - val_precision_12: 0.7624 - val_recall_12: 0.7624\n",
            "Epoch 42/50\n",
            "87/87 [==============================] - 0s 3ms/step - loss: 0.5126 - acc: 0.7558 - precision_12: 0.7558 - recall_12: 0.7558 - val_loss: 0.5137 - val_acc: 0.7602 - val_precision_12: 0.7602 - val_recall_12: 0.7602\n",
            "Epoch 43/50\n",
            "87/87 [==============================] - 0s 3ms/step - loss: 0.5139 - acc: 0.7535 - precision_12: 0.7535 - recall_12: 0.7535 - val_loss: 0.5059 - val_acc: 0.7610 - val_precision_12: 0.7610 - val_recall_12: 0.7610\n",
            "Epoch 44/50\n",
            "87/87 [==============================] - 0s 3ms/step - loss: 0.5145 - acc: 0.7524 - precision_12: 0.7524 - recall_12: 0.7524 - val_loss: 0.5107 - val_acc: 0.7629 - val_precision_12: 0.7629 - val_recall_12: 0.7629\n",
            "Epoch 45/50\n",
            "87/87 [==============================] - 0s 3ms/step - loss: 0.5123 - acc: 0.7520 - precision_12: 0.7520 - recall_12: 0.7520 - val_loss: 0.5060 - val_acc: 0.7624 - val_precision_12: 0.7624 - val_recall_12: 0.7624\n",
            "Epoch 46/50\n",
            "87/87 [==============================] - 0s 3ms/step - loss: 0.5106 - acc: 0.7526 - precision_12: 0.7526 - recall_12: 0.7526 - val_loss: 0.5161 - val_acc: 0.7605 - val_precision_12: 0.7605 - val_recall_12: 0.7605\n",
            "Epoch 47/50\n",
            "87/87 [==============================] - 0s 3ms/step - loss: 0.5140 - acc: 0.7539 - precision_12: 0.7539 - recall_12: 0.7539 - val_loss: 0.5030 - val_acc: 0.7624 - val_precision_12: 0.7624 - val_recall_12: 0.7624\n",
            "Epoch 48/50\n",
            "87/87 [==============================] - 0s 3ms/step - loss: 0.5118 - acc: 0.7526 - precision_12: 0.7526 - recall_12: 0.7526 - val_loss: 0.5070 - val_acc: 0.7605 - val_precision_12: 0.7605 - val_recall_12: 0.7605\n",
            "Epoch 49/50\n",
            "87/87 [==============================] - 0s 3ms/step - loss: 0.5121 - acc: 0.7539 - precision_12: 0.7539 - recall_12: 0.7539 - val_loss: 0.5058 - val_acc: 0.7613 - val_precision_12: 0.7613 - val_recall_12: 0.7613\n",
            "Epoch 50/50\n",
            "87/87 [==============================] - 0s 4ms/step - loss: 0.5108 - acc: 0.7546 - precision_12: 0.7546 - recall_12: 0.7546 - val_loss: 0.5088 - val_acc: 0.7613 - val_precision_12: 0.7613 - val_recall_12: 0.7613\n"
          ]
        }
      ]
    },
    {
      "cell_type": "code",
      "source": [
        "score_val = model.evaluate(X_val, y_val)\n",
        "score_test = model.evaluate(X_test, y_test)"
      ],
      "metadata": {
        "colab": {
          "base_uri": "https://localhost:8080/"
        },
        "id": "WHIZAtkcgUEX",
        "outputId": "ea52c584-357d-419b-8bad-8a54fc84cd08"
      },
      "execution_count": 216,
      "outputs": [
        {
          "output_type": "stream",
          "name": "stdout",
          "text": [
            "117/117 [==============================] - 0s 1ms/step - loss: 0.5088 - acc: 0.7613 - precision_12: 0.7613 - recall_12: 0.7613\n",
            "167/167 [==============================] - 0s 1ms/step - loss: 0.5280 - acc: 0.7519 - precision_12: 0.7519 - recall_12: 0.7519\n"
          ]
        }
      ]
    },
    {
      "cell_type": "code",
      "source": [
        "results = {'Precision sucsess':[score_val[2], score_test[2]], 'Recall':[score_val[3], score_test[3]], 'accuracy':[score_val[1], score_test[1]],'loss':[score_val[0],score_test[0]]}\n",
        "results = pd.DataFrame(results, index=['Valdition', 'Test'])\n",
        "results\n"
      ],
      "metadata": {
        "colab": {
          "base_uri": "https://localhost:8080/",
          "height": 112
        },
        "id": "W-T8UD6fa1z-",
        "outputId": "cdf23a59-36a2-4c4d-eca9-a8054e0be8bb"
      },
      "execution_count": 235,
      "outputs": [
        {
          "output_type": "execute_result",
          "data": {
            "text/html": [
              "\n",
              "  <div id=\"df-33018bf4-87fe-4274-9f03-1e3883f6e798\">\n",
              "    <div class=\"colab-df-container\">\n",
              "      <div>\n",
              "<style scoped>\n",
              "    .dataframe tbody tr th:only-of-type {\n",
              "        vertical-align: middle;\n",
              "    }\n",
              "\n",
              "    .dataframe tbody tr th {\n",
              "        vertical-align: top;\n",
              "    }\n",
              "\n",
              "    .dataframe thead th {\n",
              "        text-align: right;\n",
              "    }\n",
              "</style>\n",
              "<table border=\"1\" class=\"dataframe\">\n",
              "  <thead>\n",
              "    <tr style=\"text-align: right;\">\n",
              "      <th></th>\n",
              "      <th>Precision sucsess</th>\n",
              "      <th>Recall</th>\n",
              "      <th>accuracy</th>\n",
              "      <th>loss</th>\n",
              "    </tr>\n",
              "  </thead>\n",
              "  <tbody>\n",
              "    <tr>\n",
              "      <th>Valdition</th>\n",
              "      <td>0.761278</td>\n",
              "      <td>0.761278</td>\n",
              "      <td>0.761278</td>\n",
              "      <td>0.508800</td>\n",
              "    </tr>\n",
              "    <tr>\n",
              "      <th>Test</th>\n",
              "      <td>0.751880</td>\n",
              "      <td>0.751880</td>\n",
              "      <td>0.751880</td>\n",
              "      <td>0.527977</td>\n",
              "    </tr>\n",
              "  </tbody>\n",
              "</table>\n",
              "</div>\n",
              "      <button class=\"colab-df-convert\" onclick=\"convertToInteractive('df-33018bf4-87fe-4274-9f03-1e3883f6e798')\"\n",
              "              title=\"Convert this dataframe to an interactive table.\"\n",
              "              style=\"display:none;\">\n",
              "        \n",
              "  <svg xmlns=\"http://www.w3.org/2000/svg\" height=\"24px\"viewBox=\"0 0 24 24\"\n",
              "       width=\"24px\">\n",
              "    <path d=\"M0 0h24v24H0V0z\" fill=\"none\"/>\n",
              "    <path d=\"M18.56 5.44l.94 2.06.94-2.06 2.06-.94-2.06-.94-.94-2.06-.94 2.06-2.06.94zm-11 1L8.5 8.5l.94-2.06 2.06-.94-2.06-.94L8.5 2.5l-.94 2.06-2.06.94zm10 10l.94 2.06.94-2.06 2.06-.94-2.06-.94-.94-2.06-.94 2.06-2.06.94z\"/><path d=\"M17.41 7.96l-1.37-1.37c-.4-.4-.92-.59-1.43-.59-.52 0-1.04.2-1.43.59L10.3 9.45l-7.72 7.72c-.78.78-.78 2.05 0 2.83L4 21.41c.39.39.9.59 1.41.59.51 0 1.02-.2 1.41-.59l7.78-7.78 2.81-2.81c.8-.78.8-2.07 0-2.86zM5.41 20L4 18.59l7.72-7.72 1.47 1.35L5.41 20z\"/>\n",
              "  </svg>\n",
              "      </button>\n",
              "      \n",
              "  <style>\n",
              "    .colab-df-container {\n",
              "      display:flex;\n",
              "      flex-wrap:wrap;\n",
              "      gap: 12px;\n",
              "    }\n",
              "\n",
              "    .colab-df-convert {\n",
              "      background-color: #E8F0FE;\n",
              "      border: none;\n",
              "      border-radius: 50%;\n",
              "      cursor: pointer;\n",
              "      display: none;\n",
              "      fill: #1967D2;\n",
              "      height: 32px;\n",
              "      padding: 0 0 0 0;\n",
              "      width: 32px;\n",
              "    }\n",
              "\n",
              "    .colab-df-convert:hover {\n",
              "      background-color: #E2EBFA;\n",
              "      box-shadow: 0px 1px 2px rgba(60, 64, 67, 0.3), 0px 1px 3px 1px rgba(60, 64, 67, 0.15);\n",
              "      fill: #174EA6;\n",
              "    }\n",
              "\n",
              "    [theme=dark] .colab-df-convert {\n",
              "      background-color: #3B4455;\n",
              "      fill: #D2E3FC;\n",
              "    }\n",
              "\n",
              "    [theme=dark] .colab-df-convert:hover {\n",
              "      background-color: #434B5C;\n",
              "      box-shadow: 0px 1px 3px 1px rgba(0, 0, 0, 0.15);\n",
              "      filter: drop-shadow(0px 1px 2px rgba(0, 0, 0, 0.3));\n",
              "      fill: #FFFFFF;\n",
              "    }\n",
              "  </style>\n",
              "\n",
              "      <script>\n",
              "        const buttonEl =\n",
              "          document.querySelector('#df-33018bf4-87fe-4274-9f03-1e3883f6e798 button.colab-df-convert');\n",
              "        buttonEl.style.display =\n",
              "          google.colab.kernel.accessAllowed ? 'block' : 'none';\n",
              "\n",
              "        async function convertToInteractive(key) {\n",
              "          const element = document.querySelector('#df-33018bf4-87fe-4274-9f03-1e3883f6e798');\n",
              "          const dataTable =\n",
              "            await google.colab.kernel.invokeFunction('convertToInteractive',\n",
              "                                                     [key], {});\n",
              "          if (!dataTable) return;\n",
              "\n",
              "          const docLinkHtml = 'Like what you see? Visit the ' +\n",
              "            '<a target=\"_blank\" href=https://colab.research.google.com/notebooks/data_table.ipynb>data table notebook</a>'\n",
              "            + ' to learn more about interactive tables.';\n",
              "          element.innerHTML = '';\n",
              "          dataTable['output_type'] = 'display_data';\n",
              "          await google.colab.output.renderOutput(dataTable, element);\n",
              "          const docLink = document.createElement('div');\n",
              "          docLink.innerHTML = docLinkHtml;\n",
              "          element.appendChild(docLink);\n",
              "        }\n",
              "      </script>\n",
              "    </div>\n",
              "  </div>\n",
              "  "
            ],
            "text/plain": [
              "           Precision sucsess    Recall  accuracy      loss\n",
              "Valdition           0.761278  0.761278  0.761278  0.508800\n",
              "Test                0.751880  0.751880  0.751880  0.527977"
            ]
          },
          "metadata": {},
          "execution_count": 235
        }
      ]
    },
    {
      "cell_type": "code",
      "source": [
        "import matplotlib.pyplot as plt\n",
        "fig, ax = plt.subplots(2,1, figsize=(14,8.5))\n",
        "\n",
        "\n",
        "ax[0].plot(history.history['acc'], color='blue')\n",
        "ax[0].plot(history.history['val_acc'], color='green')\n",
        "ax[0].legend(['acc','val_acc']) #\n",
        "\n",
        "ax[1].plot(history.history['loss'], color='blue')\n",
        "ax[1].plot(history.history['val_loss'], color='green')\n",
        "ax[1].legend(['loss','val_loss']) #"
      ],
      "metadata": {
        "colab": {
          "base_uri": "https://localhost:8080/",
          "height": 527
        },
        "id": "Vq94OhUdx1gN",
        "outputId": "2de6b37e-b63b-4dbc-91ea-0c14772cedf7"
      },
      "execution_count": 236,
      "outputs": [
        {
          "output_type": "execute_result",
          "data": {
            "text/plain": [
              "<matplotlib.legend.Legend at 0x7f8d9b14ca90>"
            ]
          },
          "metadata": {},
          "execution_count": 236
        },
        {
          "output_type": "display_data",
          "data": {
            "image/png": "[encoded data removed]",
            "text/plain": [
              "<Figure size 1008x612 with 2 Axes>"
            ]
          },
          "metadata": {
            "needs_background": "light"
          }
        }
      ]
    },
    {
      "cell_type": "code",
      "source": [
        "\n",
        "model = keras.Sequential([\n",
        "                          keras.Input(shape=(8,)),\n",
        "                       \n",
        "                          \n",
        "                          keras.layers.Dense(200, activation='sigmoid'),\n",
        "                          # keras.layers.Dropout(.3),\n",
        "                          keras.layers.Dense(80, activation='sigmoid'),\n",
        "                          keras.layers.Flatten(),\n",
        "                          keras.layers.Dense(2, activation=tf.keras.activations.softmax)\n",
        "])\n",
        "model.summary()\n",
        "batch_size = 100\n",
        "epochs = 50\n",
        "metrics = ['acc', tf.keras.metrics.Precision(), tf.keras.metrics.Recall()]\n",
        "model.compile(tf.optimizers.Adam(learning_rate=0.1),\n",
        "              loss=keras.losses.CategoricalCrossentropy(),\n",
        "              metrics=metrics)"
      ],
      "metadata": {
        "id": "wZDJjowcaoMQ",
        "colab": {
          "base_uri": "https://localhost:8080/"
        },
        "outputId": "584d7d8f-5695-4c78-d0c7-2a7c3ce09f67"
      },
      "execution_count": 237,
      "outputs": [
        {
          "output_type": "stream",
          "name": "stdout",
          "text": [
            "Model: \"sequential_14\"\n",
            "_________________________________________________________________\n",
            " Layer (type)                Output Shape              Param #   \n",
            "=================================================================\n",
            " dense_42 (Dense)            (None, 200)               1800      \n",
            "                                                                 \n",
            " dense_43 (Dense)            (None, 80)                16080     \n",
            "                                                                 \n",
            " flatten_13 (Flatten)        (None, 80)                0         \n",
            "                                                                 \n",
            " dense_44 (Dense)            (None, 2)                 162       \n",
            "                                                                 \n",
            "=================================================================\n",
            "Total params: 18,042\n",
            "Trainable params: 18,042\n",
            "Non-trainable params: 0\n",
            "_________________________________________________________________\n"
          ]
        }
      ]
    },
    {
      "cell_type": "code",
      "source": [
        "history = model.fit(X_train, y_train, \n",
        "          batch_size = batch_size,\n",
        "          epochs = epochs,\n",
        "          validation_data=(X_val, y_val))\n",
        " #"
      ],
      "metadata": {
        "colab": {
          "base_uri": "https://localhost:8080/"
        },
        "id": "fmm5ASWCGp25",
        "outputId": "a0dacae3-0e35-4e9a-e937-934ad67f9c08"
      },
      "execution_count": 238,
      "outputs": [
        {
          "output_type": "stream",
          "name": "stdout",
          "text": [
            "Epoch 1/50\n",
            "87/87 [==============================] - 1s 6ms/step - loss: 0.8995 - acc: 0.5720 - precision_14: 0.5720 - recall_14: 0.5720 - val_loss: 0.6540 - val_acc: 0.6391 - val_precision_14: 0.6391 - val_recall_14: 0.6391\n",
            "Epoch 2/50\n",
            "87/87 [==============================] - 0s 3ms/step - loss: 0.6806 - acc: 0.6090 - precision_14: 0.6090 - recall_14: 0.6090 - val_loss: 0.6616 - val_acc: 0.6391 - val_precision_14: 0.6391 - val_recall_14: 0.6391\n",
            "Epoch 3/50\n",
            "87/87 [==============================] - 0s 3ms/step - loss: 0.6792 - acc: 0.6120 - precision_14: 0.6120 - recall_14: 0.6120 - val_loss: 0.6773 - val_acc: 0.6391 - val_precision_14: 0.6391 - val_recall_14: 0.6391\n",
            "Epoch 4/50\n",
            "87/87 [==============================] - 0s 3ms/step - loss: 0.6933 - acc: 0.5948 - precision_14: 0.5948 - recall_14: 0.5948 - val_loss: 0.7800 - val_acc: 0.6391 - val_precision_14: 0.6391 - val_recall_14: 0.6391\n",
            "Epoch 5/50\n",
            "87/87 [==============================] - 0s 3ms/step - loss: 0.7028 - acc: 0.5890 - precision_14: 0.5890 - recall_14: 0.5890 - val_loss: 0.6818 - val_acc: 0.6391 - val_precision_14: 0.6391 - val_recall_14: 0.6391\n",
            "Epoch 6/50\n",
            "87/87 [==============================] - 0s 3ms/step - loss: 0.6877 - acc: 0.5897 - precision_14: 0.5897 - recall_14: 0.5897 - val_loss: 0.6661 - val_acc: 0.6391 - val_precision_14: 0.6391 - val_recall_14: 0.6391\n",
            "Epoch 7/50\n",
            "87/87 [==============================] - 0s 3ms/step - loss: 0.6736 - acc: 0.6088 - precision_14: 0.6088 - recall_14: 0.6088 - val_loss: 0.6754 - val_acc: 0.6391 - val_precision_14: 0.6391 - val_recall_14: 0.6391\n",
            "Epoch 8/50\n",
            "87/87 [==============================] - 0s 3ms/step - loss: 0.6873 - acc: 0.5934 - precision_14: 0.5934 - recall_14: 0.5934 - val_loss: 0.6942 - val_acc: 0.6391 - val_precision_14: 0.6391 - val_recall_14: 0.6391\n",
            "Epoch 9/50\n",
            "87/87 [==============================] - 0s 3ms/step - loss: 0.7133 - acc: 0.5750 - precision_14: 0.5750 - recall_14: 0.5750 - val_loss: 0.6719 - val_acc: 0.6391 - val_precision_14: 0.6391 - val_recall_14: 0.6391\n",
            "Epoch 10/50\n",
            "87/87 [==============================] - 0s 3ms/step - loss: 0.7127 - acc: 0.5706 - precision_14: 0.5706 - recall_14: 0.5706 - val_loss: 0.6731 - val_acc: 0.6391 - val_precision_14: 0.6391 - val_recall_14: 0.6391\n",
            "Epoch 11/50\n",
            "87/87 [==============================] - 0s 3ms/step - loss: 0.7021 - acc: 0.5919 - precision_14: 0.5919 - recall_14: 0.5919 - val_loss: 0.6793 - val_acc: 0.6391 - val_precision_14: 0.6391 - val_recall_14: 0.6391\n",
            "Epoch 12/50\n",
            "87/87 [==============================] - 0s 3ms/step - loss: 0.6884 - acc: 0.5872 - precision_14: 0.5872 - recall_14: 0.5872 - val_loss: 0.6575 - val_acc: 0.6391 - val_precision_14: 0.6391 - val_recall_14: 0.6391\n",
            "Epoch 13/50\n",
            "87/87 [==============================] - 0s 3ms/step - loss: 0.6765 - acc: 0.6040 - precision_14: 0.6040 - recall_14: 0.6040 - val_loss: 0.6826 - val_acc: 0.6391 - val_precision_14: 0.6391 - val_recall_14: 0.6391\n",
            "Epoch 14/50\n",
            "87/87 [==============================] - 0s 3ms/step - loss: 0.6838 - acc: 0.5985 - precision_14: 0.5985 - recall_14: 0.5985 - val_loss: 0.6541 - val_acc: 0.6391 - val_precision_14: 0.6391 - val_recall_14: 0.6391\n",
            "Epoch 15/50\n",
            "87/87 [==============================] - 0s 3ms/step - loss: 0.7362 - acc: 0.5681 - precision_14: 0.5681 - recall_14: 0.5681 - val_loss: 0.6619 - val_acc: 0.6391 - val_precision_14: 0.6391 - val_recall_14: 0.6391\n",
            "Epoch 16/50\n",
            "87/87 [==============================] - 0s 3ms/step - loss: 0.6979 - acc: 0.5925 - precision_14: 0.5925 - recall_14: 0.5925 - val_loss: 0.6743 - val_acc: 0.6391 - val_precision_14: 0.6391 - val_recall_14: 0.6391\n",
            "Epoch 17/50\n",
            "87/87 [==============================] - 0s 3ms/step - loss: 0.7030 - acc: 0.5899 - precision_14: 0.5899 - recall_14: 0.5899 - val_loss: 0.6583 - val_acc: 0.6391 - val_precision_14: 0.6391 - val_recall_14: 0.6391\n",
            "Epoch 18/50\n",
            "87/87 [==============================] - 0s 3ms/step - loss: 0.7166 - acc: 0.5609 - precision_14: 0.5609 - recall_14: 0.5609 - val_loss: 0.7493 - val_acc: 0.6391 - val_precision_14: 0.6391 - val_recall_14: 0.6391\n",
            "Epoch 19/50\n",
            "87/87 [==============================] - 0s 3ms/step - loss: 0.7676 - acc: 0.5613 - precision_14: 0.5613 - recall_14: 0.5613 - val_loss: 0.6597 - val_acc: 0.6391 - val_precision_14: 0.6391 - val_recall_14: 0.6391\n",
            "Epoch 20/50\n",
            "87/87 [==============================] - 0s 3ms/step - loss: 0.7049 - acc: 0.5909 - precision_14: 0.5909 - recall_14: 0.5909 - val_loss: 0.9460 - val_acc: 0.6391 - val_precision_14: 0.6391 - val_recall_14: 0.6391\n",
            "Epoch 21/50\n",
            "87/87 [==============================] - 0s 3ms/step - loss: 0.7017 - acc: 0.5993 - precision_14: 0.5993 - recall_14: 0.5993 - val_loss: 0.6593 - val_acc: 0.6391 - val_precision_14: 0.6391 - val_recall_14: 0.6391\n",
            "Epoch 22/50\n",
            "87/87 [==============================] - 0s 3ms/step - loss: 0.6715 - acc: 0.6111 - precision_14: 0.6111 - recall_14: 0.6111 - val_loss: 0.6557 - val_acc: 0.6391 - val_precision_14: 0.6391 - val_recall_14: 0.6391\n",
            "Epoch 23/50\n",
            "87/87 [==============================] - 0s 3ms/step - loss: 0.6839 - acc: 0.6123 - precision_14: 0.6123 - recall_14: 0.6123 - val_loss: 0.8311 - val_acc: 0.6391 - val_precision_14: 0.6391 - val_recall_14: 0.6391\n",
            "Epoch 24/50\n",
            "87/87 [==============================] - 0s 3ms/step - loss: 0.6993 - acc: 0.6088 - precision_14: 0.6088 - recall_14: 0.6088 - val_loss: 0.6714 - val_acc: 0.6391 - val_precision_14: 0.6391 - val_recall_14: 0.6391\n",
            "Epoch 25/50\n",
            "87/87 [==============================] - 0s 3ms/step - loss: 0.7009 - acc: 0.5929 - precision_14: 0.5929 - recall_14: 0.5929 - val_loss: 0.7404 - val_acc: 0.6391 - val_precision_14: 0.6391 - val_recall_14: 0.6391\n",
            "Epoch 26/50\n",
            "87/87 [==============================] - 0s 3ms/step - loss: 0.7076 - acc: 0.5738 - precision_14: 0.5738 - recall_14: 0.5738 - val_loss: 0.7822 - val_acc: 0.3609 - val_precision_14: 0.3609 - val_recall_14: 0.3609\n",
            "Epoch 27/50\n",
            "87/87 [==============================] - 0s 3ms/step - loss: 0.7098 - acc: 0.5617 - precision_14: 0.5617 - recall_14: 0.5617 - val_loss: 0.6865 - val_acc: 0.6391 - val_precision_14: 0.6391 - val_recall_14: 0.6391\n",
            "Epoch 28/50\n",
            "87/87 [==============================] - 0s 3ms/step - loss: 0.6925 - acc: 0.5994 - precision_14: 0.5994 - recall_14: 0.5994 - val_loss: 0.7163 - val_acc: 0.3609 - val_precision_14: 0.3609 - val_recall_14: 0.3609\n",
            "Epoch 29/50\n",
            "87/87 [==============================] - 0s 3ms/step - loss: 0.7053 - acc: 0.5811 - precision_14: 0.5811 - recall_14: 0.5811 - val_loss: 0.7726 - val_acc: 0.3609 - val_precision_14: 0.3609 - val_recall_14: 0.3609\n",
            "Epoch 30/50\n",
            "87/87 [==============================] - 0s 3ms/step - loss: 0.6945 - acc: 0.5861 - precision_14: 0.5861 - recall_14: 0.5861 - val_loss: 0.6691 - val_acc: 0.6391 - val_precision_14: 0.6391 - val_recall_14: 0.6391\n",
            "Epoch 31/50\n",
            "87/87 [==============================] - 0s 3ms/step - loss: 0.7220 - acc: 0.5703 - precision_14: 0.5703 - recall_14: 0.5703 - val_loss: 0.6768 - val_acc: 0.6391 - val_precision_14: 0.6391 - val_recall_14: 0.6391\n",
            "Epoch 32/50\n",
            "87/87 [==============================] - 0s 3ms/step - loss: 0.7504 - acc: 0.5637 - precision_14: 0.5637 - recall_14: 0.5637 - val_loss: 0.6727 - val_acc: 0.6391 - val_precision_14: 0.6391 - val_recall_14: 0.6391\n",
            "Epoch 33/50\n",
            "87/87 [==============================] - 0s 3ms/step - loss: 0.6952 - acc: 0.5985 - precision_14: 0.5985 - recall_14: 0.5985 - val_loss: 0.6539 - val_acc: 0.6391 - val_precision_14: 0.6391 - val_recall_14: 0.6391\n",
            "Epoch 34/50\n",
            "87/87 [==============================] - 0s 3ms/step - loss: 0.6886 - acc: 0.6001 - precision_14: 0.6001 - recall_14: 0.6001 - val_loss: 0.6582 - val_acc: 0.6391 - val_precision_14: 0.6391 - val_recall_14: 0.6391\n",
            "Epoch 35/50\n",
            "87/87 [==============================] - 0s 3ms/step - loss: 0.6887 - acc: 0.5922 - precision_14: 0.5922 - recall_14: 0.5922 - val_loss: 0.6557 - val_acc: 0.6391 - val_precision_14: 0.6391 - val_recall_14: 0.6391\n",
            "Epoch 36/50\n",
            "87/87 [==============================] - 0s 3ms/step - loss: 0.7110 - acc: 0.5936 - precision_14: 0.5936 - recall_14: 0.5936 - val_loss: 0.6747 - val_acc: 0.6391 - val_precision_14: 0.6391 - val_recall_14: 0.6391\n",
            "Epoch 37/50\n",
            "87/87 [==============================] - 0s 3ms/step - loss: 0.7253 - acc: 0.5723 - precision_14: 0.5723 - recall_14: 0.5723 - val_loss: 0.7073 - val_acc: 0.3609 - val_precision_14: 0.3609 - val_recall_14: 0.3609\n",
            "Epoch 38/50\n",
            "87/87 [==============================] - 0s 3ms/step - loss: 0.6986 - acc: 0.5945 - precision_14: 0.5945 - recall_14: 0.5945 - val_loss: 0.7252 - val_acc: 0.3609 - val_precision_14: 0.3609 - val_recall_14: 0.3609\n",
            "Epoch 39/50\n",
            "87/87 [==============================] - 0s 3ms/step - loss: 0.7120 - acc: 0.5727 - precision_14: 0.5727 - recall_14: 0.5727 - val_loss: 0.6987 - val_acc: 0.6391 - val_precision_14: 0.6391 - val_recall_14: 0.6391\n",
            "Epoch 40/50\n",
            "87/87 [==============================] - 0s 3ms/step - loss: 0.6767 - acc: 0.6172 - precision_14: 0.6172 - recall_14: 0.6172 - val_loss: 0.6554 - val_acc: 0.6391 - val_precision_14: 0.6391 - val_recall_14: 0.6391\n",
            "Epoch 41/50\n",
            "87/87 [==============================] - 0s 3ms/step - loss: 0.6973 - acc: 0.5891 - precision_14: 0.5891 - recall_14: 0.5891 - val_loss: 0.6585 - val_acc: 0.6391 - val_precision_14: 0.6391 - val_recall_14: 0.6391\n",
            "Epoch 42/50\n",
            "87/87 [==============================] - 0s 3ms/step - loss: 0.6905 - acc: 0.5902 - precision_14: 0.5902 - recall_14: 0.5902 - val_loss: 0.6575 - val_acc: 0.6391 - val_precision_14: 0.6391 - val_recall_14: 0.6391\n",
            "Epoch 43/50\n",
            "87/87 [==============================] - 0s 3ms/step - loss: 0.6798 - acc: 0.6089 - precision_14: 0.6089 - recall_14: 0.6089 - val_loss: 0.7316 - val_acc: 0.6391 - val_precision_14: 0.6391 - val_recall_14: 0.6391\n",
            "Epoch 44/50\n",
            "87/87 [==============================] - 0s 3ms/step - loss: 0.6905 - acc: 0.5913 - precision_14: 0.5913 - recall_14: 0.5913 - val_loss: 0.6990 - val_acc: 0.6391 - val_precision_14: 0.6391 - val_recall_14: 0.6391\n",
            "Epoch 45/50\n",
            "87/87 [==============================] - 0s 3ms/step - loss: 0.6874 - acc: 0.6003 - precision_14: 0.6003 - recall_14: 0.6003 - val_loss: 0.6650 - val_acc: 0.6391 - val_precision_14: 0.6391 - val_recall_14: 0.6391\n",
            "Epoch 46/50\n",
            "87/87 [==============================] - 0s 3ms/step - loss: 0.6852 - acc: 0.5987 - precision_14: 0.5987 - recall_14: 0.5987 - val_loss: 0.6544 - val_acc: 0.6391 - val_precision_14: 0.6391 - val_recall_14: 0.6391\n",
            "Epoch 47/50\n",
            "87/87 [==============================] - 0s 3ms/step - loss: 0.6958 - acc: 0.5874 - precision_14: 0.5874 - recall_14: 0.5874 - val_loss: 0.6582 - val_acc: 0.6391 - val_precision_14: 0.6391 - val_recall_14: 0.6391\n",
            "Epoch 48/50\n",
            "87/87 [==============================] - 0s 3ms/step - loss: 0.6994 - acc: 0.5823 - precision_14: 0.5823 - recall_14: 0.5823 - val_loss: 0.6716 - val_acc: 0.6391 - val_precision_14: 0.6391 - val_recall_14: 0.6391\n",
            "Epoch 49/50\n",
            "87/87 [==============================] - 0s 3ms/step - loss: 0.6936 - acc: 0.5867 - precision_14: 0.5867 - recall_14: 0.5867 - val_loss: 0.6539 - val_acc: 0.6391 - val_precision_14: 0.6391 - val_recall_14: 0.6391\n",
            "Epoch 50/50\n",
            "87/87 [==============================] - 0s 3ms/step - loss: 0.6948 - acc: 0.5853 - precision_14: 0.5853 - recall_14: 0.5853 - val_loss: 0.6681 - val_acc: 0.6391 - val_precision_14: 0.6391 - val_recall_14: 0.6391\n"
          ]
        }
      ]
    },
    {
      "cell_type": "code",
      "source": [
        "score_val = model.evaluate(X_val, y_val)\n",
        "score_test = model.evaluate(X_test, y_test)\n"
      ],
      "metadata": {
        "colab": {
          "base_uri": "https://localhost:8080/"
        },
        "id": "HHvQS_mmG9zr",
        "outputId": "249ac486-953f-4b28-e99e-4be32af324d5"
      },
      "execution_count": 239,
      "outputs": [
        {
          "output_type": "stream",
          "name": "stdout",
          "text": [
            "117/117 [==============================] - 0s 1ms/step - loss: 0.6681 - acc: 0.6391 - precision_14: 0.6391 - recall_14: 0.6391\n",
            "167/167 [==============================] - 0s 1ms/step - loss: 0.6650 - acc: 0.6425 - precision_14: 0.6425 - recall_14: 0.6425\n"
          ]
        }
      ]
    },
    {
      "cell_type": "code",
      "source": [
        "results = {'Precision sucsess':[score_val[2], score_test[2]], 'Recall':[score_val[3], score_test[3]], 'accuracy':[score_val[1], score_test[1]],'loss':[score_val[0],score_test[0]]}\n",
        "results = pd.DataFrame(results, index=['Valdition', 'Test'])\n",
        "results\n"
      ],
      "metadata": {
        "colab": {
          "base_uri": "https://localhost:8080/",
          "height": 112
        },
        "id": "M4fW5hXVhAAM",
        "outputId": "3e56f11c-bf11-4ccc-a25e-f4f28e497fa6"
      },
      "execution_count": 240,
      "outputs": [
        {
          "output_type": "execute_result",
          "data": {
            "text/html": [
              "\n",
              "  <div id=\"df-662f8d4b-d4b3-4050-a079-27f83a12be8a\">\n",
              "    <div class=\"colab-df-container\">\n",
              "      <div>\n",
              "<style scoped>\n",
              "    .dataframe tbody tr th:only-of-type {\n",
              "        vertical-align: middle;\n",
              "    }\n",
              "\n",
              "    .dataframe tbody tr th {\n",
              "        vertical-align: top;\n",
              "    }\n",
              "\n",
              "    .dataframe thead th {\n",
              "        text-align: right;\n",
              "    }\n",
              "</style>\n",
              "<table border=\"1\" class=\"dataframe\">\n",
              "  <thead>\n",
              "    <tr style=\"text-align: right;\">\n",
              "      <th></th>\n",
              "      <th>Precision sucsess</th>\n",
              "      <th>Recall</th>\n",
              "      <th>accuracy</th>\n",
              "      <th>loss</th>\n",
              "    </tr>\n",
              "  </thead>\n",
              "  <tbody>\n",
              "    <tr>\n",
              "      <th>Valdition</th>\n",
              "      <td>0.639098</td>\n",
              "      <td>0.639098</td>\n",
              "      <td>0.639098</td>\n",
              "      <td>0.668098</td>\n",
              "    </tr>\n",
              "    <tr>\n",
              "      <th>Test</th>\n",
              "      <td>0.642481</td>\n",
              "      <td>0.642481</td>\n",
              "      <td>0.642481</td>\n",
              "      <td>0.664956</td>\n",
              "    </tr>\n",
              "  </tbody>\n",
              "</table>\n",
              "</div>\n",
              "      <button class=\"colab-df-convert\" onclick=\"convertToInteractive('df-662f8d4b-d4b3-4050-a079-27f83a12be8a')\"\n",
              "              title=\"Convert this dataframe to an interactive table.\"\n",
              "              style=\"display:none;\">\n",
              "        \n",
              "  <svg xmlns=\"http://www.w3.org/2000/svg\" height=\"24px\"viewBox=\"0 0 24 24\"\n",
              "       width=\"24px\">\n",
              "    <path d=\"M0 0h24v24H0V0z\" fill=\"none\"/>\n",
              "    <path d=\"M18.56 5.44l.94 2.06.94-2.06 2.06-.94-2.06-.94-.94-2.06-.94 2.06-2.06.94zm-11 1L8.5 8.5l.94-2.06 2.06-.94-2.06-.94L8.5 2.5l-.94 2.06-2.06.94zm10 10l.94 2.06.94-2.06 2.06-.94-2.06-.94-.94-2.06-.94 2.06-2.06.94z\"/><path d=\"M17.41 7.96l-1.37-1.37c-.4-.4-.92-.59-1.43-.59-.52 0-1.04.2-1.43.59L10.3 9.45l-7.72 7.72c-.78.78-.78 2.05 0 2.83L4 21.41c.39.39.9.59 1.41.59.51 0 1.02-.2 1.41-.59l7.78-7.78 2.81-2.81c.8-.78.8-2.07 0-2.86zM5.41 20L4 18.59l7.72-7.72 1.47 1.35L5.41 20z\"/>\n",
              "  </svg>\n",
              "      </button>\n",
              "      \n",
              "  <style>\n",
              "    .colab-df-container {\n",
              "      display:flex;\n",
              "      flex-wrap:wrap;\n",
              "      gap: 12px;\n",
              "    }\n",
              "\n",
              "    .colab-df-convert {\n",
              "      background-color: #E8F0FE;\n",
              "      border: none;\n",
              "      border-radius: 50%;\n",
              "      cursor: pointer;\n",
              "      display: none;\n",
              "      fill: #1967D2;\n",
              "      height: 32px;\n",
              "      padding: 0 0 0 0;\n",
              "      width: 32px;\n",
              "    }\n",
              "\n",
              "    .colab-df-convert:hover {\n",
              "      background-color: #E2EBFA;\n",
              "      box-shadow: 0px 1px 2px rgba(60, 64, 67, 0.3), 0px 1px 3px 1px rgba(60, 64, 67, 0.15);\n",
              "      fill: #174EA6;\n",
              "    }\n",
              "\n",
              "    [theme=dark] .colab-df-convert {\n",
              "      background-color: #3B4455;\n",
              "      fill: #D2E3FC;\n",
              "    }\n",
              "\n",
              "    [theme=dark] .colab-df-convert:hover {\n",
              "      background-color: #434B5C;\n",
              "      box-shadow: 0px 1px 3px 1px rgba(0, 0, 0, 0.15);\n",
              "      filter: drop-shadow(0px 1px 2px rgba(0, 0, 0, 0.3));\n",
              "      fill: #FFFFFF;\n",
              "    }\n",
              "  </style>\n",
              "\n",
              "      <script>\n",
              "        const buttonEl =\n",
              "          document.querySelector('#df-662f8d4b-d4b3-4050-a079-27f83a12be8a button.colab-df-convert');\n",
              "        buttonEl.style.display =\n",
              "          google.colab.kernel.accessAllowed ? 'block' : 'none';\n",
              "\n",
              "        async function convertToInteractive(key) {\n",
              "          const element = document.querySelector('#df-662f8d4b-d4b3-4050-a079-27f83a12be8a');\n",
              "          const dataTable =\n",
              "            await google.colab.kernel.invokeFunction('convertToInteractive',\n",
              "                                                     [key], {});\n",
              "          if (!dataTable) return;\n",
              "\n",
              "          const docLinkHtml = 'Like what you see? Visit the ' +\n",
              "            '<a target=\"_blank\" href=https://colab.research.google.com/notebooks/data_table.ipynb>data table notebook</a>'\n",
              "            + ' to learn more about interactive tables.';\n",
              "          element.innerHTML = '';\n",
              "          dataTable['output_type'] = 'display_data';\n",
              "          await google.colab.output.renderOutput(dataTable, element);\n",
              "          const docLink = document.createElement('div');\n",
              "          docLink.innerHTML = docLinkHtml;\n",
              "          element.appendChild(docLink);\n",
              "        }\n",
              "      </script>\n",
              "    </div>\n",
              "  </div>\n",
              "  "
            ],
            "text/plain": [
              "           Precision sucsess    Recall  accuracy      loss\n",
              "Valdition           0.639098  0.639098  0.639098  0.668098\n",
              "Test                0.642481  0.642481  0.642481  0.664956"
            ]
          },
          "metadata": {},
          "execution_count": 240
        }
      ]
    },
    {
      "cell_type": "code",
      "source": [
        "import matplotlib.pyplot as plt\n",
        "fig, ax = plt.subplots(2,1, figsize=(14,8.5))\n",
        "\n",
        "\n",
        "ax[0].plot(history.history['acc'], color='blue')\n",
        "ax[0].plot(history.history['val_acc'], color='green')\n",
        "ax[0].legend(['acc','val_acc']) #\n",
        "\n",
        "ax[1].plot(history.history['loss'], color='blue')\n",
        "ax[1].plot(history.history['val_loss'], color='green')\n",
        "ax[1].legend(['loss','val_loss']) #"
      ],
      "metadata": {
        "colab": {
          "base_uri": "https://localhost:8080/",
          "height": 530
        },
        "id": "G8m1EXKeHVQY",
        "outputId": "37883c16-8b3a-4dfd-da20-e9d1f6c86257"
      },
      "execution_count": 241,
      "outputs": [
        {
          "output_type": "execute_result",
          "data": {
            "text/plain": [
              "<matplotlib.legend.Legend at 0x7f8d9babb890>"
            ]
          },
          "metadata": {},
          "execution_count": 241
        },
        {
          "output_type": "display_data",
          "data": {
            "image/png": "[encoded data removed]",
            "text/plain": [
              "<Figure size 1008x612 with 2 Axes>"
            ]
          },
          "metadata": {
            "needs_background": "light"
          }
        }
      ]
    },
    {
      "cell_type": "code",
      "source": [
        "\n",
        "model = keras.Sequential([\n",
        "                          keras.Input(shape=(8,)),\n",
        "                       \n",
        "                          \n",
        "                          keras.layers.Dense(100, activation='sigmoid'),\n",
        "                          keras.layers.Dropout(.3),\n",
        "                          keras.layers.Dense(90, activation='sigmoid'),\n",
        "                          keras.layers.Flatten(),\n",
        "                          keras.layers.Dense(2, activation=tf.keras.activations.softmax)\n",
        "])\n",
        "model.summary()\n",
        "batch_size = 100\n",
        "epochs = 50\n",
        "metrics = ['acc', tf.keras.metrics.Precision(), tf.keras.metrics.Recall()]\n",
        "model.compile(tf.optimizers.SGD(learning_rate=0.01),\n",
        "              loss=keras.losses.CategoricalCrossentropy(),\n",
        "              metrics=metrics)"
      ],
      "metadata": {
        "colab": {
          "base_uri": "https://localhost:8080/"
        },
        "id": "ILHYbTiEHwGt",
        "outputId": "fedc8f74-e2bb-48bd-fc00-a6e2a483a213"
      },
      "execution_count": 242,
      "outputs": [
        {
          "output_type": "stream",
          "name": "stdout",
          "text": [
            "Model: \"sequential_15\"\n",
            "_________________________________________________________________\n",
            " Layer (type)                Output Shape              Param #   \n",
            "=================================================================\n",
            " dense_45 (Dense)            (None, 100)               900       \n",
            "                                                                 \n",
            " dropout_12 (Dropout)        (None, 100)               0         \n",
            "                                                                 \n",
            " dense_46 (Dense)            (None, 90)                9090      \n",
            "                                                                 \n",
            " flatten_14 (Flatten)        (None, 90)                0         \n",
            "                                                                 \n",
            " dense_47 (Dense)            (None, 2)                 182       \n",
            "                                                                 \n",
            "=================================================================\n",
            "Total params: 10,172\n",
            "Trainable params: 10,172\n",
            "Non-trainable params: 0\n",
            "_________________________________________________________________\n"
          ]
        }
      ]
    },
    {
      "cell_type": "code",
      "source": [
        "history = model.fit(X_train, y_train, \n",
        "          batch_size = batch_size,\n",
        "          epochs = epochs,\n",
        "          validation_data=(X_val, y_val))\n",
        " #"
      ],
      "metadata": {
        "colab": {
          "base_uri": "https://localhost:8080/"
        },
        "id": "triJUUrvIDCx",
        "outputId": "c299a8b5-d78b-44b9-c9ba-ec36e60337eb"
      },
      "execution_count": 243,
      "outputs": [
        {
          "output_type": "stream",
          "name": "stdout",
          "text": [
            "Epoch 1/50\n",
            "87/87 [==============================] - 1s 10ms/step - loss: 0.6515 - acc: 0.6362 - precision_15: 0.6362 - recall_15: 0.6362 - val_loss: 0.6440 - val_acc: 0.6391 - val_precision_15: 0.6391 - val_recall_15: 0.6391\n",
            "Epoch 2/50\n",
            "87/87 [==============================] - 0s 5ms/step - loss: 0.6485 - acc: 0.6368 - precision_15: 0.6368 - recall_15: 0.6368 - val_loss: 0.6414 - val_acc: 0.6391 - val_precision_15: 0.6391 - val_recall_15: 0.6391\n",
            "Epoch 3/50\n",
            "87/87 [==============================] - 0s 5ms/step - loss: 0.6465 - acc: 0.6377 - precision_15: 0.6377 - recall_15: 0.6377 - val_loss: 0.6393 - val_acc: 0.6391 - val_precision_15: 0.6391 - val_recall_15: 0.6391\n",
            "Epoch 4/50\n",
            "87/87 [==============================] - 1s 6ms/step - loss: 0.6443 - acc: 0.6382 - precision_15: 0.6382 - recall_15: 0.6382 - val_loss: 0.6365 - val_acc: 0.6391 - val_precision_15: 0.6391 - val_recall_15: 0.6391\n",
            "Epoch 5/50\n",
            "87/87 [==============================] - 1s 6ms/step - loss: 0.6433 - acc: 0.6378 - precision_15: 0.6378 - recall_15: 0.6378 - val_loss: 0.6348 - val_acc: 0.6391 - val_precision_15: 0.6391 - val_recall_15: 0.6391\n",
            "Epoch 6/50\n",
            "87/87 [==============================] - 0s 5ms/step - loss: 0.6398 - acc: 0.6416 - precision_15: 0.6416 - recall_15: 0.6416 - val_loss: 0.6324 - val_acc: 0.6402 - val_precision_15: 0.6402 - val_recall_15: 0.6402\n",
            "Epoch 7/50\n",
            "87/87 [==============================] - 0s 6ms/step - loss: 0.6380 - acc: 0.6437 - precision_15: 0.6437 - recall_15: 0.6437 - val_loss: 0.6296 - val_acc: 0.6404 - val_precision_15: 0.6404 - val_recall_15: 0.6404\n",
            "Epoch 8/50\n",
            "87/87 [==============================] - 0s 5ms/step - loss: 0.6353 - acc: 0.6447 - precision_15: 0.6447 - recall_15: 0.6447 - val_loss: 0.6273 - val_acc: 0.6431 - val_precision_15: 0.6431 - val_recall_15: 0.6431\n",
            "Epoch 9/50\n",
            "87/87 [==============================] - 0s 4ms/step - loss: 0.6353 - acc: 0.6506 - precision_15: 0.6506 - recall_15: 0.6506 - val_loss: 0.6252 - val_acc: 0.6431 - val_precision_15: 0.6431 - val_recall_15: 0.6431\n",
            "Epoch 10/50\n",
            "87/87 [==============================] - 0s 5ms/step - loss: 0.6315 - acc: 0.6522 - precision_15: 0.6522 - recall_15: 0.6522 - val_loss: 0.6234 - val_acc: 0.6528 - val_precision_15: 0.6528 - val_recall_15: 0.6528\n",
            "Epoch 11/50\n",
            "87/87 [==============================] - 0s 4ms/step - loss: 0.6298 - acc: 0.6560 - precision_15: 0.6560 - recall_15: 0.6560 - val_loss: 0.6212 - val_acc: 0.6469 - val_precision_15: 0.6469 - val_recall_15: 0.6469\n",
            "Epoch 12/50\n",
            "87/87 [==============================] - 0s 3ms/step - loss: 0.6274 - acc: 0.6620 - precision_15: 0.6620 - recall_15: 0.6620 - val_loss: 0.6189 - val_acc: 0.6622 - val_precision_15: 0.6622 - val_recall_15: 0.6622\n",
            "Epoch 13/50\n",
            "87/87 [==============================] - 0s 2ms/step - loss: 0.6271 - acc: 0.6637 - precision_15: 0.6637 - recall_15: 0.6637 - val_loss: 0.6174 - val_acc: 0.6743 - val_precision_15: 0.6743 - val_recall_15: 0.6743\n",
            "Epoch 14/50\n",
            "87/87 [==============================] - 0s 3ms/step - loss: 0.6255 - acc: 0.6658 - precision_15: 0.6658 - recall_15: 0.6658 - val_loss: 0.6149 - val_acc: 0.6737 - val_precision_15: 0.6737 - val_recall_15: 0.6737\n",
            "Epoch 15/50\n",
            "87/87 [==============================] - 0s 3ms/step - loss: 0.6250 - acc: 0.6722 - precision_15: 0.6722 - recall_15: 0.6722 - val_loss: 0.6134 - val_acc: 0.6614 - val_precision_15: 0.6614 - val_recall_15: 0.6614\n",
            "Epoch 16/50\n",
            "87/87 [==============================] - 0s 3ms/step - loss: 0.6213 - acc: 0.6729 - precision_15: 0.6729 - recall_15: 0.6729 - val_loss: 0.6111 - val_acc: 0.6694 - val_precision_15: 0.6694 - val_recall_15: 0.6694\n",
            "Epoch 17/50\n",
            "87/87 [==============================] - 0s 3ms/step - loss: 0.6214 - acc: 0.6791 - precision_15: 0.6791 - recall_15: 0.6791 - val_loss: 0.6095 - val_acc: 0.6702 - val_precision_15: 0.6702 - val_recall_15: 0.6702\n",
            "Epoch 18/50\n",
            "87/87 [==============================] - 0s 2ms/step - loss: 0.6183 - acc: 0.6806 - precision_15: 0.6806 - recall_15: 0.6806 - val_loss: 0.6071 - val_acc: 0.6893 - val_precision_15: 0.6893 - val_recall_15: 0.6893\n",
            "Epoch 19/50\n",
            "87/87 [==============================] - 0s 3ms/step - loss: 0.6173 - acc: 0.6834 - precision_15: 0.6834 - recall_15: 0.6834 - val_loss: 0.6052 - val_acc: 0.6925 - val_precision_15: 0.6925 - val_recall_15: 0.6925\n",
            "Epoch 20/50\n",
            "87/87 [==============================] - 0s 3ms/step - loss: 0.6165 - acc: 0.6848 - precision_15: 0.6848 - recall_15: 0.6848 - val_loss: 0.6038 - val_acc: 0.7009 - val_precision_15: 0.7009 - val_recall_15: 0.7009\n",
            "Epoch 21/50\n",
            "87/87 [==============================] - 0s 5ms/step - loss: 0.6156 - acc: 0.6904 - precision_15: 0.6904 - recall_15: 0.6904 - val_loss: 0.6023 - val_acc: 0.6901 - val_precision_15: 0.6901 - val_recall_15: 0.6901\n",
            "Epoch 22/50\n",
            "87/87 [==============================] - 0s 5ms/step - loss: 0.6145 - acc: 0.6920 - precision_15: 0.6920 - recall_15: 0.6920 - val_loss: 0.6002 - val_acc: 0.6968 - val_precision_15: 0.6968 - val_recall_15: 0.6968\n",
            "Epoch 23/50\n",
            "87/87 [==============================] - 0s 5ms/step - loss: 0.6123 - acc: 0.6943 - precision_15: 0.6943 - recall_15: 0.6943 - val_loss: 0.5987 - val_acc: 0.6971 - val_precision_15: 0.6971 - val_recall_15: 0.6971\n",
            "Epoch 24/50\n",
            "87/87 [==============================] - 0s 4ms/step - loss: 0.6105 - acc: 0.6965 - precision_15: 0.6965 - recall_15: 0.6965 - val_loss: 0.5972 - val_acc: 0.7180 - val_precision_15: 0.7180 - val_recall_15: 0.7180\n",
            "Epoch 25/50\n",
            "87/87 [==============================] - 0s 4ms/step - loss: 0.6114 - acc: 0.6989 - precision_15: 0.6989 - recall_15: 0.6989 - val_loss: 0.5957 - val_acc: 0.7030 - val_precision_15: 0.7030 - val_recall_15: 0.7030\n",
            "Epoch 26/50\n",
            "87/87 [==============================] - 0s 4ms/step - loss: 0.6094 - acc: 0.6969 - precision_15: 0.6969 - recall_15: 0.6969 - val_loss: 0.5942 - val_acc: 0.7070 - val_precision_15: 0.7070 - val_recall_15: 0.7070\n",
            "Epoch 27/50\n",
            "87/87 [==============================] - 0s 4ms/step - loss: 0.6068 - acc: 0.7035 - precision_15: 0.7035 - recall_15: 0.7035 - val_loss: 0.5927 - val_acc: 0.7221 - val_precision_15: 0.7221 - val_recall_15: 0.7221\n",
            "Epoch 28/50\n",
            "87/87 [==============================] - 0s 4ms/step - loss: 0.6072 - acc: 0.7050 - precision_15: 0.7050 - recall_15: 0.7050 - val_loss: 0.5912 - val_acc: 0.7229 - val_precision_15: 0.7229 - val_recall_15: 0.7229\n",
            "Epoch 29/50\n",
            "87/87 [==============================] - 0s 4ms/step - loss: 0.6057 - acc: 0.7043 - precision_15: 0.7043 - recall_15: 0.7043 - val_loss: 0.5904 - val_acc: 0.7352 - val_precision_15: 0.7352 - val_recall_15: 0.7352\n",
            "Epoch 30/50\n",
            "87/87 [==============================] - 0s 5ms/step - loss: 0.6062 - acc: 0.7020 - precision_15: 0.7020 - recall_15: 0.7020 - val_loss: 0.5890 - val_acc: 0.7189 - val_precision_15: 0.7189 - val_recall_15: 0.7189\n",
            "Epoch 31/50\n",
            "87/87 [==============================] - 0s 5ms/step - loss: 0.6030 - acc: 0.7078 - precision_15: 0.7078 - recall_15: 0.7078 - val_loss: 0.5877 - val_acc: 0.7223 - val_precision_15: 0.7223 - val_recall_15: 0.7223\n",
            "Epoch 32/50\n",
            "87/87 [==============================] - 0s 5ms/step - loss: 0.6054 - acc: 0.7039 - precision_15: 0.7039 - recall_15: 0.7039 - val_loss: 0.5864 - val_acc: 0.7320 - val_precision_15: 0.7320 - val_recall_15: 0.7320\n",
            "Epoch 33/50\n",
            "87/87 [==============================] - 0s 3ms/step - loss: 0.5990 - acc: 0.7088 - precision_15: 0.7088 - recall_15: 0.7088 - val_loss: 0.5856 - val_acc: 0.7258 - val_precision_15: 0.7258 - val_recall_15: 0.7258\n",
            "Epoch 34/50\n",
            "87/87 [==============================] - 0s 2ms/step - loss: 0.6031 - acc: 0.7079 - precision_15: 0.7079 - recall_15: 0.7079 - val_loss: 0.5847 - val_acc: 0.7489 - val_precision_15: 0.7489 - val_recall_15: 0.7489\n",
            "Epoch 35/50\n",
            "87/87 [==============================] - 0s 3ms/step - loss: 0.6005 - acc: 0.7123 - precision_15: 0.7123 - recall_15: 0.7123 - val_loss: 0.5832 - val_acc: 0.7328 - val_precision_15: 0.7328 - val_recall_15: 0.7328\n",
            "Epoch 36/50\n",
            "87/87 [==============================] - 0s 4ms/step - loss: 0.6005 - acc: 0.7054 - precision_15: 0.7054 - recall_15: 0.7054 - val_loss: 0.5821 - val_acc: 0.7360 - val_precision_15: 0.7360 - val_recall_15: 0.7360\n",
            "Epoch 37/50\n",
            "87/87 [==============================] - 0s 5ms/step - loss: 0.6007 - acc: 0.7096 - precision_15: 0.7096 - recall_15: 0.7096 - val_loss: 0.5818 - val_acc: 0.7538 - val_precision_15: 0.7538 - val_recall_15: 0.7538\n",
            "Epoch 38/50\n",
            "87/87 [==============================] - 0s 5ms/step - loss: 0.5998 - acc: 0.7126 - precision_15: 0.7126 - recall_15: 0.7126 - val_loss: 0.5806 - val_acc: 0.7521 - val_precision_15: 0.7521 - val_recall_15: 0.7521\n",
            "Epoch 39/50\n",
            "87/87 [==============================] - 0s 5ms/step - loss: 0.5963 - acc: 0.7142 - precision_15: 0.7142 - recall_15: 0.7142 - val_loss: 0.5799 - val_acc: 0.7355 - val_precision_15: 0.7355 - val_recall_15: 0.7355\n",
            "Epoch 40/50\n",
            "87/87 [==============================] - 0s 4ms/step - loss: 0.5962 - acc: 0.7141 - precision_15: 0.7141 - recall_15: 0.7141 - val_loss: 0.5785 - val_acc: 0.7511 - val_precision_15: 0.7511 - val_recall_15: 0.7511\n",
            "Epoch 41/50\n",
            "87/87 [==============================] - 0s 3ms/step - loss: 0.5975 - acc: 0.7158 - precision_15: 0.7158 - recall_15: 0.7158 - val_loss: 0.5777 - val_acc: 0.7462 - val_precision_15: 0.7462 - val_recall_15: 0.7462\n",
            "Epoch 42/50\n",
            "87/87 [==============================] - 0s 4ms/step - loss: 0.5953 - acc: 0.7144 - precision_15: 0.7144 - recall_15: 0.7144 - val_loss: 0.5781 - val_acc: 0.7352 - val_precision_15: 0.7352 - val_recall_15: 0.7352\n",
            "Epoch 43/50\n",
            "87/87 [==============================] - 0s 3ms/step - loss: 0.5936 - acc: 0.7152 - precision_15: 0.7152 - recall_15: 0.7152 - val_loss: 0.5767 - val_acc: 0.7570 - val_precision_15: 0.7570 - val_recall_15: 0.7570\n",
            "Epoch 44/50\n",
            "87/87 [==============================] - 0s 2ms/step - loss: 0.5957 - acc: 0.7162 - precision_15: 0.7162 - recall_15: 0.7162 - val_loss: 0.5761 - val_acc: 0.7403 - val_precision_15: 0.7403 - val_recall_15: 0.7403\n",
            "Epoch 45/50\n",
            "87/87 [==============================] - 0s 3ms/step - loss: 0.5937 - acc: 0.7188 - precision_15: 0.7188 - recall_15: 0.7188 - val_loss: 0.5756 - val_acc: 0.7562 - val_precision_15: 0.7562 - val_recall_15: 0.7562\n",
            "Epoch 46/50\n",
            "87/87 [==============================] - 0s 3ms/step - loss: 0.5942 - acc: 0.7194 - precision_15: 0.7194 - recall_15: 0.7194 - val_loss: 0.5742 - val_acc: 0.7559 - val_precision_15: 0.7559 - val_recall_15: 0.7559\n",
            "Epoch 47/50\n",
            "87/87 [==============================] - 0s 2ms/step - loss: 0.5951 - acc: 0.7120 - precision_15: 0.7120 - recall_15: 0.7120 - val_loss: 0.5735 - val_acc: 0.7484 - val_precision_15: 0.7484 - val_recall_15: 0.7484\n",
            "Epoch 48/50\n",
            "87/87 [==============================] - 0s 3ms/step - loss: 0.5935 - acc: 0.7148 - precision_15: 0.7148 - recall_15: 0.7148 - val_loss: 0.5733 - val_acc: 0.7567 - val_precision_15: 0.7567 - val_recall_15: 0.7567\n",
            "Epoch 49/50\n",
            "87/87 [==============================] - 0s 3ms/step - loss: 0.5918 - acc: 0.7191 - precision_15: 0.7191 - recall_15: 0.7191 - val_loss: 0.5727 - val_acc: 0.7567 - val_precision_15: 0.7567 - val_recall_15: 0.7567\n",
            "Epoch 50/50\n",
            "87/87 [==============================] - 0s 3ms/step - loss: 0.5950 - acc: 0.7167 - precision_15: 0.7167 - recall_15: 0.7167 - val_loss: 0.5718 - val_acc: 0.7556 - val_precision_15: 0.7556 - val_recall_15: 0.7556\n"
          ]
        }
      ]
    },
    {
      "cell_type": "code",
      "source": [
        "score_val = model.evaluate(X_val, y_val)\n",
        "score_test = model.evaluate(X_test, y_test)\n"
      ],
      "metadata": {
        "colab": {
          "base_uri": "https://localhost:8080/"
        },
        "id": "oD8b3w5EILrb",
        "outputId": "4fbac9c5-8894-42c4-fad4-26b323f72089"
      },
      "execution_count": 244,
      "outputs": [
        {
          "output_type": "stream",
          "name": "stdout",
          "text": [
            "117/117 [==============================] - 0s 1ms/step - loss: 0.5718 - acc: 0.7556 - precision_15: 0.7556 - recall_15: 0.7556\n",
            "167/167 [==============================] - 0s 1ms/step - loss: 0.5769 - acc: 0.7451 - precision_15: 0.7451 - recall_15: 0.7451\n"
          ]
        }
      ]
    },
    {
      "cell_type": "code",
      "source": [
        "results = {'Precision sucsess':[score_val[2], score_test[2]], 'Recall':[score_val[3], score_test[3]], 'accuracy':[score_val[1], score_test[1]],'loss':[score_val[0],score_test[0]]}\n",
        "results = pd.DataFrame(results, index=['Valdition', 'Test'])\n",
        "results\n"
      ],
      "metadata": {
        "colab": {
          "base_uri": "https://localhost:8080/",
          "height": 112
        },
        "id": "rUKNG4PdhN4R",
        "outputId": "7a13f3d9-6630-488f-9f86-88cccf1830ed"
      },
      "execution_count": 245,
      "outputs": [
        {
          "output_type": "execute_result",
          "data": {
            "text/html": [
              "\n",
              "  <div id=\"df-046a5573-afc6-4087-8a3a-cfa098979d93\">\n",
              "    <div class=\"colab-df-container\">\n",
              "      <div>\n",
              "<style scoped>\n",
              "    .dataframe tbody tr th:only-of-type {\n",
              "        vertical-align: middle;\n",
              "    }\n",
              "\n",
              "    .dataframe tbody tr th {\n",
              "        vertical-align: top;\n",
              "    }\n",
              "\n",
              "    .dataframe thead th {\n",
              "        text-align: right;\n",
              "    }\n",
              "</style>\n",
              "<table border=\"1\" class=\"dataframe\">\n",
              "  <thead>\n",
              "    <tr style=\"text-align: right;\">\n",
              "      <th></th>\n",
              "      <th>Precision sucsess</th>\n",
              "      <th>Recall</th>\n",
              "      <th>accuracy</th>\n",
              "      <th>loss</th>\n",
              "    </tr>\n",
              "  </thead>\n",
              "  <tbody>\n",
              "    <tr>\n",
              "      <th>Valdition</th>\n",
              "      <td>0.755639</td>\n",
              "      <td>0.755639</td>\n",
              "      <td>0.755639</td>\n",
              "      <td>0.571845</td>\n",
              "    </tr>\n",
              "    <tr>\n",
              "      <th>Test</th>\n",
              "      <td>0.745113</td>\n",
              "      <td>0.745113</td>\n",
              "      <td>0.745113</td>\n",
              "      <td>0.576893</td>\n",
              "    </tr>\n",
              "  </tbody>\n",
              "</table>\n",
              "</div>\n",
              "      <button class=\"colab-df-convert\" onclick=\"convertToInteractive('df-046a5573-afc6-4087-8a3a-cfa098979d93')\"\n",
              "              title=\"Convert this dataframe to an interactive table.\"\n",
              "              style=\"display:none;\">\n",
              "        \n",
              "  <svg xmlns=\"http://www.w3.org/2000/svg\" height=\"24px\"viewBox=\"0 0 24 24\"\n",
              "       width=\"24px\">\n",
              "    <path d=\"M0 0h24v24H0V0z\" fill=\"none\"/>\n",
              "    <path d=\"M18.56 5.44l.94 2.06.94-2.06 2.06-.94-2.06-.94-.94-2.06-.94 2.06-2.06.94zm-11 1L8.5 8.5l.94-2.06 2.06-.94-2.06-.94L8.5 2.5l-.94 2.06-2.06.94zm10 10l.94 2.06.94-2.06 2.06-.94-2.06-.94-.94-2.06-.94 2.06-2.06.94z\"/><path d=\"M17.41 7.96l-1.37-1.37c-.4-.4-.92-.59-1.43-.59-.52 0-1.04.2-1.43.59L10.3 9.45l-7.72 7.72c-.78.78-.78 2.05 0 2.83L4 21.41c.39.39.9.59 1.41.59.51 0 1.02-.2 1.41-.59l7.78-7.78 2.81-2.81c.8-.78.8-2.07 0-2.86zM5.41 20L4 18.59l7.72-7.72 1.47 1.35L5.41 20z\"/>\n",
              "  </svg>\n",
              "      </button>\n",
              "      \n",
              "  <style>\n",
              "    .colab-df-container {\n",
              "      display:flex;\n",
              "      flex-wrap:wrap;\n",
              "      gap: 12px;\n",
              "    }\n",
              "\n",
              "    .colab-df-convert {\n",
              "      background-color: #E8F0FE;\n",
              "      border: none;\n",
              "      border-radius: 50%;\n",
              "      cursor: pointer;\n",
              "      display: none;\n",
              "      fill: #1967D2;\n",
              "      height: 32px;\n",
              "      padding: 0 0 0 0;\n",
              "      width: 32px;\n",
              "    }\n",
              "\n",
              "    .colab-df-convert:hover {\n",
              "      background-color: #E2EBFA;\n",
              "      box-shadow: 0px 1px 2px rgba(60, 64, 67, 0.3), 0px 1px 3px 1px rgba(60, 64, 67, 0.15);\n",
              "      fill: #174EA6;\n",
              "    }\n",
              "\n",
              "    [theme=dark] .colab-df-convert {\n",
              "      background-color: #3B4455;\n",
              "      fill: #D2E3FC;\n",
              "    }\n",
              "\n",
              "    [theme=dark] .colab-df-convert:hover {\n",
              "      background-color: #434B5C;\n",
              "      box-shadow: 0px 1px 3px 1px rgba(0, 0, 0, 0.15);\n",
              "      filter: drop-shadow(0px 1px 2px rgba(0, 0, 0, 0.3));\n",
              "      fill: #FFFFFF;\n",
              "    }\n",
              "  </style>\n",
              "\n",
              "      <script>\n",
              "        const buttonEl =\n",
              "          document.querySelector('#df-046a5573-afc6-4087-8a3a-cfa098979d93 button.colab-df-convert');\n",
              "        buttonEl.style.display =\n",
              "          google.colab.kernel.accessAllowed ? 'block' : 'none';\n",
              "\n",
              "        async function convertToInteractive(key) {\n",
              "          const element = document.querySelector('#df-046a5573-afc6-4087-8a3a-cfa098979d93');\n",
              "          const dataTable =\n",
              "            await google.colab.kernel.invokeFunction('convertToInteractive',\n",
              "                                                     [key], {});\n",
              "          if (!dataTable) return;\n",
              "\n",
              "          const docLinkHtml = 'Like what you see? Visit the ' +\n",
              "            '<a target=\"_blank\" href=https://colab.research.google.com/notebooks/data_table.ipynb>data table notebook</a>'\n",
              "            + ' to learn more about interactive tables.';\n",
              "          element.innerHTML = '';\n",
              "          dataTable['output_type'] = 'display_data';\n",
              "          await google.colab.output.renderOutput(dataTable, element);\n",
              "          const docLink = document.createElement('div');\n",
              "          docLink.innerHTML = docLinkHtml;\n",
              "          element.appendChild(docLink);\n",
              "        }\n",
              "      </script>\n",
              "    </div>\n",
              "  </div>\n",
              "  "
            ],
            "text/plain": [
              "           Precision sucsess    Recall  accuracy      loss\n",
              "Valdition           0.755639  0.755639  0.755639  0.571845\n",
              "Test                0.745113  0.745113  0.745113  0.576893"
            ]
          },
          "metadata": {},
          "execution_count": 245
        }
      ]
    },
    {
      "cell_type": "code",
      "source": [
        "import matplotlib.pyplot as plt\n",
        "fig, ax = plt.subplots(2,1, figsize=(14,8.5))\n",
        "\n",
        "\n",
        "ax[0].plot(history.history['acc'], color='blue')\n",
        "ax[0].plot(history.history['val_acc'], color='green')\n",
        "ax[0].legend(['acc','val_acc']) #\n",
        "\n",
        "ax[1].plot(history.history['loss'], color='blue')\n",
        "ax[1].plot(history.history['val_loss'], color='green')\n",
        "ax[1].legend(['loss','val_loss']) #"
      ],
      "metadata": {
        "colab": {
          "base_uri": "https://localhost:8080/",
          "height": 527
        },
        "id": "ywGg0TrnIar5",
        "outputId": "1721b543-9013-418e-ebad-7ddd813a3630"
      },
      "execution_count": 246,
      "outputs": [
        {
          "output_type": "execute_result",
          "data": {
            "text/plain": [
              "<matplotlib.legend.Legend at 0x7f8d9b7d2150>"
            ]
          },
          "metadata": {},
          "execution_count": 246
        },
        {
          "output_type": "display_data",
          "data": {
            "image/png": "[encoded data removed]",
            "text/plain": [
              "<Figure size 1008x612 with 2 Axes>"
            ]
          },
          "metadata": {
            "needs_background": "light"
          }
        }
      ]
    }
  ]
}